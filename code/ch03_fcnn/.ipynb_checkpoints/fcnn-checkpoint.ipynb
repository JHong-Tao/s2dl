{
 "cells": [
  {
   "cell_type": "markdown",
   "id": "eb0d650b-8a25-45c2-9975-e6dde15497cb",
   "metadata": {},
   "source": [
    "# Jupyter 快捷键\n",
    "- 模式切换\n",
    "    - esc 切换到命令模式\n",
    "    - Enter 切换到编辑模式\n",
    "- 编辑模式常用快捷键\n",
    "    - Ctrl + ]缩进\n",
    "    - Ctrl + Y 重做\n",
    "    - Ctrl + Enter 运行当前单元\n",
    "    - Shift + Enter 运行当前单，并选中下一个单元\n",
    "    - Alt + Enter 运行当前单元，并新建下一个单元\n",
    "- 命令模式常用快捷键\n",
    "    - Y:原单元转为 code\n",
    "    - M:原单元转为 Markdown\n",
    "    - R:原单元转为 源码格式\n",
    "    - A:在上方插入新单元\n",
    "    - B:在下方插入新单元\n",
    "    - Z:撤销操作\n",
    "    - ii:终止代码运行\n",
    "    - DD:删除单元\n",
    "    - LL:中断内核\n",
    "    - OO:重启内核"
   ]
  },
  {
   "cell_type": "markdown",
   "id": "bb140119-fe1d-4f25-847e-ddaa6487edcc",
   "metadata": {},
   "source": [
    "# 1. 什么是PyTorch?"
   ]
  },
  {
   "cell_type": "markdown",
   "id": "b9ae56f7-b4bc-40f4-8e28-9ee294e15a6b",
   "metadata": {},
   "source": [
    "[PyTorch](https://pytorch.org/)是一个基于Python的科学计算库，它有如下特点：\n",
    "- 类似于Numpy,但是它可以使用GPU\n",
    "- 可以用它定义深度学习模型，可以灵活的进行深度学习模型的训练和使用\n",
    "- Tensors Tensor类似于Numpy的ndarray,唯一的区别是前者可以在GPU上加速运算"
   ]
  },
  {
   "cell_type": "markdown",
   "id": "38e81168-e6f1-42d3-bdfd-1adab300c0da",
   "metadata": {},
   "source": [
    "## 1.1 Tensors\n",
    "- 导入torch"
   ]
  },
  {
   "cell_type": "code",
   "execution_count": 6,
   "id": "905359df-80bb-4126-b609-fc33d9cfc9c3",
   "metadata": {},
   "outputs": [],
   "source": [
    "import torch"
   ]
  },
  {
   "cell_type": "markdown",
   "id": "2ae8a329-38c5-410f-b022-00a1e6a26eda",
   "metadata": {},
   "source": [
    "- 构造一个未初始化的矩阵：shape=5x3"
   ]
  },
  {
   "cell_type": "code",
   "execution_count": 7,
   "id": "f45a87c6-6792-4687-a99a-bc12122b431b",
   "metadata": {},
   "outputs": [
    {
     "name": "stdout",
     "output_type": "stream",
     "text": [
      "tensor([[1.0194e-38, 1.0469e-38, 1.0010e-38],\n",
      "        [8.9081e-39, 8.9082e-39, 5.9694e-39],\n",
      "        [8.9082e-39, 1.0194e-38, 9.1837e-39],\n",
      "        [4.6837e-39, 9.2755e-39, 1.0837e-38],\n",
      "        [8.4490e-39, 1.0653e-38, 9.1837e-39]])\n"
     ]
    }
   ],
   "source": [
    "x = torch.empty(5, 3)\n",
    "print(x)"
   ]
  },
  {
   "cell_type": "markdown",
   "id": "be4a4205-c2e2-4572-bd1c-d489e2168c67",
   "metadata": {},
   "source": [
    "- 构建一个随机初始化矩阵：shape=5x3"
   ]
  },
  {
   "cell_type": "code",
   "execution_count": 8,
   "id": "d1397191-cc34-4d11-b89e-7999688874bd",
   "metadata": {},
   "outputs": [
    {
     "name": "stdout",
     "output_type": "stream",
     "text": [
      "tensor([[0.2182, 0.1750, 0.4464],\n",
      "        [0.9918, 0.2686, 0.8402],\n",
      "        [0.0303, 0.5727, 0.4813],\n",
      "        [0.6570, 0.7687, 0.0126],\n",
      "        [0.9432, 0.9665, 0.7907]])\n"
     ]
    }
   ],
   "source": [
    "x = torch.rand(5, 3)\n",
    "print(x)"
   ]
  },
  {
   "cell_type": "markdown",
   "id": "21050d9c-f6fd-4073-a771-63b23ebda307",
   "metadata": {},
   "source": [
    "- 构建一个全为0的，数据类型为long的矩阵：shape=5x3"
   ]
  },
  {
   "cell_type": "code",
   "execution_count": 9,
   "id": "33e5f0f2-2e05-4a79-8664-4644a809e173",
   "metadata": {},
   "outputs": [
    {
     "name": "stdout",
     "output_type": "stream",
     "text": [
      "tensor([[0., 0., 0.],\n",
      "        [0., 0., 0.],\n",
      "        [0., 0., 0.],\n",
      "        [0., 0., 0.],\n",
      "        [0., 0., 0.]])\n"
     ]
    }
   ],
   "source": [
    "x = torch.zeros(5, 3)\n",
    "print(x)"
   ]
  },
  {
   "cell_type": "markdown",
   "id": "009ad1d2-32c5-40ab-8445-e796c641a468",
   "metadata": {},
   "source": [
    "- 从数据中直接构建Tensor"
   ]
  },
  {
   "cell_type": "code",
   "execution_count": 10,
   "id": "dd691551-cb00-4465-a6bd-e03693247896",
   "metadata": {},
   "outputs": [
    {
     "name": "stdout",
     "output_type": "stream",
     "text": [
      "tensor([5, 3])\n",
      "1664230356056\n",
      "1664230359112\n"
     ]
    }
   ],
   "source": [
    "y = [5, 3]\n",
    "x = torch.tensor(y)\n",
    "print(x)\n",
    "print(id(x))\n",
    "print(id(y))"
   ]
  },
  {
   "cell_type": "markdown",
   "id": "7661ce7e-cab1-44cf-8372-32d51454eb31",
   "metadata": {},
   "source": [
    "- 也可以从一个已有的tensor构建一个tensor。这些方法会重用原来tensor的特征，如数据类型和数据等"
   ]
  },
  {
   "cell_type": "code",
   "execution_count": 11,
   "id": "9ff6c370-b00d-477a-b6aa-0236ea263f58",
   "metadata": {},
   "outputs": [
    {
     "name": "stdout",
     "output_type": "stream",
     "text": [
      "tensor([[1, 1, 1],\n",
      "        [1, 1, 1],\n",
      "        [1, 1, 1],\n",
      "        [1, 1, 1],\n",
      "        [1, 1, 1]])\n",
      "tensor([[0.3616, 0.6098, 0.2457],\n",
      "        [0.1903, 0.3743, 0.9667],\n",
      "        [0.4055, 0.9448, 0.3432],\n",
      "        [0.1010, 0.4873, 0.9765],\n",
      "        [0.0137, 0.6808, 0.8133]])\n",
      "torch.Size([5, 3])\n",
      "torch.Size([5, 3])\n"
     ]
    }
   ],
   "source": [
    "x = x.new_ones(5, 3)   # new_*这个方法需要传递新tensor的sizes,也就是矩阵的形状\n",
    "print(x)\n",
    "\n",
    "y = torch.rand_like(x, dtype=torch.float)    # 穿甲一个与x形状相似的随机矩阵\n",
    "print(y)\n",
    "\n",
    "print(x.shape)\n",
    "print(y.size())    # shape和size() 都是获取tensor的形状"
   ]
  },
  {
   "cell_type": "markdown",
   "id": "3324af6a-e9da-4573-be2b-482ff2f67dbc",
   "metadata": {},
   "source": [
    "## 1.2 Tensor的运算    "
   ]
  },
  {
   "cell_type": "markdown",
   "id": "0036564d-6ec8-43a2-82e7-3068d6bbb3de",
   "metadata": {},
   "source": [
    "- 加法"
   ]
  },
  {
   "cell_type": "code",
   "execution_count": 12,
   "id": "0e78e98f-ce33-47ce-b211-420cdda8bc53",
   "metadata": {},
   "outputs": [
    {
     "name": "stdout",
     "output_type": "stream",
     "text": [
      "tensor([[1, 1, 1],\n",
      "        [1, 1, 1],\n",
      "        [1, 1, 1],\n",
      "        [1, 1, 1],\n",
      "        [1, 1, 1]])\n",
      "tensor([[0.3616, 0.6098, 0.2457],\n",
      "        [0.1903, 0.3743, 0.9667],\n",
      "        [0.4055, 0.9448, 0.3432],\n",
      "        [0.1010, 0.4873, 0.9765],\n",
      "        [0.0137, 0.6808, 0.8133]])\n",
      "tensor([[1.3616, 1.6098, 1.2457],\n",
      "        [1.1903, 1.3743, 1.9667],\n",
      "        [1.4055, 1.9448, 1.3432],\n",
      "        [1.1010, 1.4873, 1.9765],\n",
      "        [1.0137, 1.6808, 1.8133]])\n"
     ]
    }
   ],
   "source": [
    "print(x)\n",
    "print(y)\n",
    "print(x+y)"
   ]
  },
  {
   "cell_type": "markdown",
   "id": "460aacbd-cd05-481e-bb86-3714fcc89ada",
   "metadata": {},
   "source": [
    "- add加法"
   ]
  },
  {
   "cell_type": "code",
   "execution_count": 13,
   "id": "bad2a1bc-fa9e-450a-a58b-8f82ddc5e69c",
   "metadata": {},
   "outputs": [
    {
     "name": "stdout",
     "output_type": "stream",
     "text": [
      "tensor([[1.3616, 1.6098, 1.2457],\n",
      "        [1.1903, 1.3743, 1.9667],\n",
      "        [1.4055, 1.9448, 1.3432],\n",
      "        [1.1010, 1.4873, 1.9765],\n",
      "        [1.0137, 1.6808, 1.8133]])\n"
     ]
    }
   ],
   "source": [
    "print(torch.add(x, y))"
   ]
  },
  {
   "cell_type": "markdown",
   "id": "cc0c94c7-726b-4d61-983a-fb1c89e49a20",
   "metadata": {},
   "source": [
    "- 把加法的输出结果作为一个变量"
   ]
  },
  {
   "cell_type": "code",
   "execution_count": 14,
   "id": "6cf04bfa-1343-4c7e-95ac-467052551332",
   "metadata": {},
   "outputs": [
    {
     "name": "stdout",
     "output_type": "stream",
     "text": [
      "tensor([[1.3616, 1.6098, 1.2457],\n",
      "        [1.1903, 1.3743, 1.9667],\n",
      "        [1.4055, 1.9448, 1.3432],\n",
      "        [1.1010, 1.4873, 1.9765],\n",
      "        [1.0137, 1.6808, 1.8133]])\n",
      "tensor([[1.3616, 1.6098, 1.2457],\n",
      "        [1.1903, 1.3743, 1.9667],\n",
      "        [1.4055, 1.9448, 1.3432],\n",
      "        [1.1010, 1.4873, 1.9765],\n",
      "        [1.0137, 1.6808, 1.8133]])\n"
     ]
    }
   ],
   "source": [
    "result = torch.empty(5, 3)\n",
    "print(result)\n",
    "torch.add(x, y, out=result)\n",
    "print(result)"
   ]
  },
  {
   "cell_type": "markdown",
   "id": "10a0377c-5346-4b4f-adfa-22a4c17d24db",
   "metadata": {},
   "source": [
    "- in-place加法 （in-place:原地取代的意思）"
   ]
  },
  {
   "cell_type": "code",
   "execution_count": 15,
   "id": "9b7d1608-13e5-4123-a974-57c9a999012e",
   "metadata": {},
   "outputs": [
    {
     "name": "stdout",
     "output_type": "stream",
     "text": [
      "tensor([[0., 0., 0.],\n",
      "        [0., 0., 0.],\n",
      "        [0., 0., 0.],\n",
      "        [0., 0., 0.],\n",
      "        [0., 0., 0.]])\n",
      "tensor([[1., 1., 1.],\n",
      "        [1., 1., 1.],\n",
      "        [1., 1., 1.],\n",
      "        [1., 1., 1.],\n",
      "        [1., 1., 1.]])\n"
     ]
    }
   ],
   "source": [
    "y = torch.zeros(x.size())\n",
    "print(y)\n",
    "y.add_(x)\n",
    "print(y)"
   ]
  },
  {
   "cell_type": "markdown",
   "id": "f02df157-d291-4032-9cd1-bee978b916d7",
   "metadata": {},
   "source": [
    "- **注意：*\n",
    "    - 所有in-place运算都会的名称都是一下划线\"_\"结尾，这种运算会直接改变被操作变量的值\n"
   ]
  },
  {
   "cell_type": "markdown",
   "id": "25b82524-9fdb-4717-8447-342ef5d63f70",
   "metadata": {},
   "source": [
    "## 1.3 Tensor的索引操作"
   ]
  },
  {
   "cell_type": "code",
   "execution_count": 16,
   "id": "0bf4c9ae-b252-4007-874f-2661081c9514",
   "metadata": {},
   "outputs": [
    {
     "name": "stdout",
     "output_type": "stream",
     "text": [
      "tensor([[1, 1, 1],\n",
      "        [1, 1, 1],\n",
      "        [1, 1, 1],\n",
      "        [1, 1, 1],\n",
      "        [1, 1, 1]])\n"
     ]
    }
   ],
   "source": [
    "print(x)"
   ]
  },
  {
   "cell_type": "code",
   "execution_count": 17,
   "id": "65a366b0-1932-4d3e-9820-2a84e28ef8d7",
   "metadata": {},
   "outputs": [
    {
     "name": "stdout",
     "output_type": "stream",
     "text": [
      "tensor([1, 1, 1, 1, 1])\n"
     ]
    }
   ],
   "source": [
    "print(x[:,1])   # 取x的第1列，列标从0开始"
   ]
  },
  {
   "cell_type": "markdown",
   "id": "2d52bbe1-86a1-4c5c-b352-d1205ce2ba8c",
   "metadata": {},
   "source": [
    "- Resizing:如果希望reshape tensor的形状可以使用：torch.view()"
   ]
  },
  {
   "cell_type": "code",
   "execution_count": 18,
   "id": "7c5c65da-c77e-4de6-8166-1d6db2582087",
   "metadata": {},
   "outputs": [
    {
     "name": "stdout",
     "output_type": "stream",
     "text": [
      "tensor([[1., 1., 1., 1.],\n",
      "        [1., 1., 1., 1.],\n",
      "        [1., 1., 1., 1.],\n",
      "        [1., 1., 1., 1.]])\n"
     ]
    }
   ],
   "source": [
    "x = torch.ones(4, 4)\n",
    "print(x)"
   ]
  },
  {
   "cell_type": "code",
   "execution_count": 19,
   "id": "1976f1e6-08c9-4a79-9707-c5faceae4eae",
   "metadata": {},
   "outputs": [
    {
     "name": "stdout",
     "output_type": "stream",
     "text": [
      "tensor([[1., 1., 1., 1., 1., 1., 1., 1.],\n",
      "        [1., 1., 1., 1., 1., 1., 1., 1.]])\n"
     ]
    }
   ],
   "source": [
    "y = x.view(2, 8)\n",
    "print(y)"
   ]
  },
  {
   "cell_type": "markdown",
   "id": "9f2a553b-f7b8-4dd0-a99f-67c6489cf88a",
   "metadata": {},
   "source": [
    "- 通过设置一个维度为“-1”来进行自动推断tensor的形状"
   ]
  },
  {
   "cell_type": "code",
   "execution_count": 20,
   "id": "2bb2ad78-0d8f-4379-8114-2b7aa7e31bb1",
   "metadata": {},
   "outputs": [
    {
     "name": "stdout",
     "output_type": "stream",
     "text": [
      "tensor([[[1., 1.],\n",
      "         [1., 1.]],\n",
      "\n",
      "        [[1., 1.],\n",
      "         [1., 1.]],\n",
      "\n",
      "        [[1., 1.],\n",
      "         [1., 1.]],\n",
      "\n",
      "        [[1., 1.],\n",
      "         [1., 1.]]])\n",
      "torch.Size([4, 2, 2])\n"
     ]
    }
   ],
   "source": [
    "z = x.view(-1,2,2)\n",
    "print(z)\n",
    "print(z.size())"
   ]
  },
  {
   "cell_type": "markdown",
   "id": "436d4c0c-1d2f-4721-adad-bf440fc2c1ae",
   "metadata": {},
   "source": [
    "- 如果tensor中只包含一个元素，可以使用“.item()”方法，把tensor中的数值变成python的数值"
   ]
  },
  {
   "cell_type": "code",
   "execution_count": 21,
   "id": "d767be99-4155-4e86-9aa4-6bdbe2ad8573",
   "metadata": {},
   "outputs": [
    {
     "name": "stdout",
     "output_type": "stream",
     "text": [
      "tensor([1.])\n",
      "1.0\n",
      "<class 'torch.Tensor'>\n",
      "<class 'float'>\n"
     ]
    }
   ],
   "source": [
    "x = torch.ones(1)\n",
    "print(x)\n",
    "print(x.item())\n",
    "print(type(x))\n",
    "print(type(x.item()))"
   ]
  },
  {
   "cell_type": "markdown",
   "id": "3141f437-6f57-49ce-819a-a924e35c39f3",
   "metadata": {},
   "source": [
    "## 1.4 Numpy和Tensor之间的转换"
   ]
  },
  {
   "cell_type": "markdown",
   "id": "1e54715c-2955-44c5-8ce4-0fe4e9dcd9a2",
   "metadata": {},
   "source": [
    "- Torch Tensor可以和Numpy array无障碍的转换\n",
    "- Tensor 和 Numpy array之间会共享同一块数据内存，所以改变其中之一，两者的数据都会发生变化\n",
    "- 所有CPU上的Tensor都支持转成numpy或者从numpy转成Tensor"
   ]
  },
  {
   "cell_type": "markdown",
   "id": "38813651-e813-430e-b093-0b109114579c",
   "metadata": {},
   "source": [
    "- Tensor 转Numpy Array :   “.numpy()方法”"
   ]
  },
  {
   "cell_type": "code",
   "execution_count": 22,
   "id": "7a8861ac-9eed-4ad5-88b7-d4e0728ff686",
   "metadata": {},
   "outputs": [
    {
     "name": "stdout",
     "output_type": "stream",
     "text": [
      "tensor([1., 1., 1., 1., 1.])\n"
     ]
    }
   ],
   "source": [
    "a = torch.ones(5)\n",
    "print(a)"
   ]
  },
  {
   "cell_type": "code",
   "execution_count": 23,
   "id": "b57e63e4-b021-4977-a7ef-39ed1689db11",
   "metadata": {},
   "outputs": [
    {
     "name": "stdout",
     "output_type": "stream",
     "text": [
      "[1. 1. 1. 1. 1.]\n",
      "<class 'numpy.ndarray'>\n"
     ]
    }
   ],
   "source": [
    "b = a.numpy()\n",
    "print(b)\n",
    "print(type(b))"
   ]
  },
  {
   "cell_type": "markdown",
   "id": "ca2a8b81-d664-4cd3-8cc5-31e5ba2f38ad",
   "metadata": {},
   "source": [
    "- 通过修改tensor的值来修改numpy中的值"
   ]
  },
  {
   "cell_type": "code",
   "execution_count": 24,
   "id": "dd58ddd8-7a9e-400a-943c-705530bb44c8",
   "metadata": {},
   "outputs": [
    {
     "name": "stdout",
     "output_type": "stream",
     "text": [
      "1664230431144\n",
      "1664230378640\n",
      "tensor([2., 2., 2., 2., 2.])\n",
      "[2. 2. 2. 2. 2.]\n",
      "1664230431144\n",
      "1664230378640\n"
     ]
    }
   ],
   "source": [
    "print(id(a))\n",
    "print(id(b))\n",
    "# 修改tensor的值\n",
    "a.add_(1)\n",
    "print(a)\n",
    "print(b)\n",
    "print(id(a))\n",
    "print(id(b))"
   ]
  },
  {
   "cell_type": "markdown",
   "id": "df9ecb2a-7393-4973-9d05-bd43bc2a2e59",
   "metadata": {},
   "source": [
    "- Numpy ndarray 转 tensor"
   ]
  },
  {
   "cell_type": "code",
   "execution_count": 25,
   "id": "5ed340c5-5666-486a-aa25-e76353ef8ba9",
   "metadata": {},
   "outputs": [
    {
     "name": "stdout",
     "output_type": "stream",
     "text": [
      "[1. 1. 1. 1. 1.]\n",
      "tensor([1., 1., 1., 1., 1.], dtype=torch.float64)\n",
      "[2. 2. 2. 2. 2.]\n",
      "tensor([2., 2., 2., 2., 2.], dtype=torch.float64)\n"
     ]
    }
   ],
   "source": [
    "import numpy as np\n",
    "a = np.ones(5)\n",
    "b = torch.from_numpy(a)\n",
    "print(a)\n",
    "print(b)\n",
    "np.add(a, 1, out=a)\n",
    "print(a)\n",
    "print(b)"
   ]
  },
  {
   "cell_type": "markdown",
   "id": "d04067f0-ba85-4f46-b26f-92dc3e3795e2",
   "metadata": {},
   "source": [
    "## 1.5 CUDA Tensors"
   ]
  },
  {
   "cell_type": "markdown",
   "id": "0b311ae7-2921-461e-8915-187c0e8c0cf7",
   "metadata": {},
   "source": [
    "\".to()\"方法，将tensor转移到GPU上运行,也可以把GPU上的数据转移到CPU上运行"
   ]
  },
  {
   "cell_type": "code",
   "execution_count": 26,
   "id": "5bdfae58-ff5e-4b95-90e3-2f0417c6ea09",
   "metadata": {},
   "outputs": [
    {
     "name": "stdout",
     "output_type": "stream",
     "text": [
      "tensor([2., 2., 2., 2.], device='cuda:0')\n",
      "tensor([2., 2., 2., 2.], dtype=torch.float64)\n"
     ]
    }
   ],
   "source": [
    "if torch.cuda.is_available():\n",
    "    gpu = torch.device('cuda')            # 获取GPU\n",
    "    x = torch.ones(4)                     # 创建一个CPU的tensor\n",
    "    y = torch.ones_like(x, device=gpu)    # 创建tensor的时候给它指定GPU\n",
    "    x = x.to(gpu)                         # 把x转移到GPU上\n",
    "    z = x + y\n",
    "    print(z)\n",
    "    print(z.to('cpu', torch.double))"
   ]
  },
  {
   "cell_type": "markdown",
   "id": "33ad1119-0098-4698-aa84-49613effa5f8",
   "metadata": {},
   "source": [
    "## 1.6 Numpy ndarray操作"
   ]
  },
  {
   "cell_type": "markdown",
   "id": "1ec96282-4b2a-40e3-a28f-ddb891af3c8c",
   "metadata": {},
   "source": [
    "- 数据类型\n",
    "- 创建数组\n",
    "- 切片和索引操作\n",
    "- 广播机制\n",
    "- 矩阵计算"
   ]
  },
  {
   "cell_type": "code",
   "execution_count": 61,
   "id": "791fc1f8-7c58-46bf-af24-3789c88de2c1",
   "metadata": {},
   "outputs": [
    {
     "name": "stdout",
     "output_type": "stream",
     "text": [
      "[0 1 2 3]\n",
      "[[0 1]\n",
      " [2 3]]\n",
      "[[0 1]\n",
      " [2 3]]\n"
     ]
    }
   ],
   "source": [
    "import numpy as np\n",
    "a = np.arange(4)\n",
    "print(a)\n",
    "a = a.reshape(2, 2)\n",
    "print(a)\n",
    "\n",
    "b = np.arange(4).reshape(2, 2)\n",
    "print(b)"
   ]
  },
  {
   "cell_type": "markdown",
   "id": "5c85e1b8-5121-4765-a10f-8be48dca39a1",
   "metadata": {},
   "source": [
    "- numpy.matmul() 函数返回两个数组的矩阵乘积,正常的矩阵运算"
   ]
  },
  {
   "cell_type": "code",
   "execution_count": 62,
   "id": "39bd97c5-adc0-427f-bd5d-ade561e12bec",
   "metadata": {},
   "outputs": [
    {
     "data": {
      "text/plain": [
       "array([[ 2,  3],\n",
       "       [ 6, 11]])"
      ]
     },
     "execution_count": 62,
     "metadata": {},
     "output_type": "execute_result"
    }
   ],
   "source": [
    "c = np.matmul(a, b)\n",
    "c\n"
   ]
  },
  {
   "cell_type": "markdown",
   "id": "d2c98b80-33ae-433f-9d19-f6867ea79b78",
   "metadata": {},
   "source": [
    "- numpy.dot() 向量点成运算，也就是正常的矩阵运算"
   ]
  },
  {
   "cell_type": "code",
   "execution_count": 47,
   "id": "f26add21-41ea-44ac-9045-3f2267521854",
   "metadata": {},
   "outputs": [
    {
     "name": "stdout",
     "output_type": "stream",
     "text": [
      "[[ 2  3]\n",
      " [ 6 11]]\n"
     ]
    }
   ],
   "source": [
    "c = a.dot(b)\n",
    "# c = np.dot(a, b)\n",
    "print(c)"
   ]
  },
  {
   "cell_type": "markdown",
   "id": "06d49cee-d8f7-4ce2-bcd5-6d62d0653c89",
   "metadata": {},
   "source": [
    "- numpy矩阵直接相乘结果为矩阵的对应元素相乘\n"
   ]
  },
  {
   "cell_type": "code",
   "execution_count": 55,
   "id": "388a2448-cc4c-419c-af8a-62adce06a534",
   "metadata": {},
   "outputs": [
    {
     "name": "stdout",
     "output_type": "stream",
     "text": [
      "[[0 1]\n",
      " [4 9]]\n"
     ]
    }
   ],
   "source": [
    "c = a * b\n",
    "print(c)"
   ]
  },
  {
   "cell_type": "markdown",
   "id": "1d0b5984-a95e-408f-b444-d640ea69691f",
   "metadata": {},
   "source": [
    "- numpy.vdot()向量的点积，即对应位置元素相乘在相加"
   ]
  },
  {
   "cell_type": "code",
   "execution_count": 56,
   "id": "a89a92fb-2e28-4760-8bbd-fa2d2a4f6f3f",
   "metadata": {},
   "outputs": [
    {
     "name": "stdout",
     "output_type": "stream",
     "text": [
      "14\n"
     ]
    }
   ],
   "source": [
    "c = np.vdot(a, b)\n",
    "print(c)     "
   ]
  },
  {
   "cell_type": "markdown",
   "id": "f700b17c-482c-4ffc-a2fa-b6435b66f1db",
   "metadata": {},
   "source": [
    "- np.T:矩阵转置"
   ]
  },
  {
   "cell_type": "code",
   "execution_count": 59,
   "id": "23279d3e-9613-460b-b19f-19835f4ab715",
   "metadata": {},
   "outputs": [
    {
     "name": "stdout",
     "output_type": "stream",
     "text": [
      "[[ 0  1  2  3]\n",
      " [ 4  5  6  7]\n",
      " [ 8  9 10 11]]\n",
      "[[ 0  4  8]\n",
      " [ 1  5  9]\n",
      " [ 2  6 10]\n",
      " [ 3  7 11]]\n"
     ]
    }
   ],
   "source": [
    "a = np.arange(12).reshape(3, 4)\n",
    "print(a)\n",
    "c = a.T\n",
    "print(c)"
   ]
  },
  {
   "cell_type": "markdown",
   "id": "7871e7d4-725e-4373-8fec-d8dd8d45ae91",
   "metadata": {},
   "source": [
    "# 2. 全连接神经网络"
   ]
  },
  {
   "cell_type": "markdown",
   "id": "3db46219-b214-481e-92b0-d7f88cadd07a",
   "metadata": {},
   "source": [
    "## 2.1 numpy实现两层全连接神经网络"
   ]
  },
  {
   "cell_type": "markdown",
   "id": "9e91c766-dbe9-4508-b193-6621d9d1ebaa",
   "metadata": {},
   "source": [
    "- 一个全连接ReLU神经网络，一个隐藏层，没有bias。用来从x预测y,使用$L_{2}$Loss"
   ]
  },
  {
   "cell_type": "markdown",
   "id": "16bdacbf-7835-4316-970c-c21c027f8238",
   "metadata": {},
   "source": [
    "- 这一实现完全使用numpy来计算前向神经网络，loss，和反向传播\n"
   ]
  },
  {
   "cell_type": "markdown",
   "id": "34ac6444-8af1-47ee-970e-778c04b75a4c",
   "metadata": {},
   "source": [
    "- numpy ndarray 是一个普通的n为array。它不知道任何关于深度学习或者梯度的知识，也不知道计算图，只能是一种运来计算数学运算的数据结构。\n",
    "\n"
   ]
  },
  {
   "cell_type": "code",
   "execution_count": 4,
   "id": "f16a1bee-f397-42a9-962f-d6ea819c0856",
   "metadata": {},
   "outputs": [
    {
     "name": "stdout",
     "output_type": "stream",
     "text": [
      "0 1791.839952494872\n",
      "1 623.7260539317557\n",
      "2 252.86515768277013\n",
      "3 152.14313660909153\n",
      "4 99.28294181316527\n",
      "5 69.12853478914477\n",
      "6 52.063099906068324\n",
      "7 42.81805854260313\n",
      "8 37.99791695205263\n",
      "9 35.45785088893951\n",
      "10000 1.2359354042988429\n",
      "20000 1.1489039135536838\n",
      "30000 1.0804995036561755\n",
      "40000 1.024365912402394\n",
      "50000 0.9765606578531202\n",
      "60000 0.9355610176206783\n",
      "70000 0.9024503274952239\n",
      "80000 0.8779138440310721\n",
      "90000 0.8611207664507613\n",
      "100000 0.8501834975289172\n"
     ]
    },
    {
     "data": {
      "image/png": "[encoded data removed]",
      "text/plain": [
       "<Figure size 432x288 with 1 Axes>"
      ]
     },
     "metadata": {
      "needs_background": "light"
     },
     "output_type": "display_data"
    }
   ],
   "source": [
    "import numpy as np\n",
    "import matplotlib.pyplot as plt\n",
    "\n",
    "N, D_in, H, D_out = 64, 784,100,10   # N是batch, D_in是输入维度，H为隐藏层维度，D_OUT为输出维度\n",
    "\n",
    "# 创建输入输出数据\n",
    "x = np.random.randn(N, D_in)    # x.shape:64x784 有64条数据，每条数据有784=28*28个特征\n",
    "y = np.random.randn(N, D_out)   # y.shape:64x10 十分类为题,类似数字识别，64条数据\n",
    "\n",
    "# 初始化权重参数\n",
    "w1 = np.random.rand(D_in, H)    # w1.shape:784x100,输入维度是784，输出维度是100，隐藏层有10个节点\n",
    "w2 = np.random.rand(H, D_out)   # w2.shape:100x10,隐藏层有100个节点，输出层为10个节点\n",
    "\n",
    "# 学习率\n",
    "lr = 1e-6\n",
    "epochs = 100001\n",
    "loss_list = []\n",
    "\n",
    "# 学习过程，梯度下降迭代\n",
    "for t in range(epochs):\n",
    "    # 前向过程\n",
    "    h = x.dot(w1)                        # 线性计算：h=xw\n",
    "    h_relu = np.maximum(h, 0 )           # 激活函数：非线性变换 h_relu = relu(h)\n",
    "    y_pred = h_relu.dot(w2)              # 线性计算预测值 y_pred = h_relu x w2\n",
    "    \n",
    "    # 计算损失函数\n",
    "    loss = np.square(y_pred -y).sum()    # loss = (y_pred - y) ** 2\n",
    "    RMSE = np.sqrt(loss/N)\n",
    "    \n",
    "    if t < 10:\n",
    "        print(t, RMSE)        # 打印RMSE\n",
    "    elif t % 10000 == 0:\n",
    "        print(t, RMSE)        # 打印RMSE\n",
    "    elif t % 10 == 0:\n",
    "        loss_list.append(RMSE)\n",
    "    \n",
    "    # 反向传播计算梯度\n",
    "    grad_y_pred = 2.0 * (y_pred - y)           # dl/dy_hat = 2(y_hat - y)\n",
    "    grad_w2 = h_relu.T.dot(grad_y_pred)        # dy_hat/w2 = h.T\n",
    "    grad_h_relu = grad_y_pred.dot(w2.T)        \n",
    "    grad_h = grad_h_relu.copy()\n",
    "    grad_h[h<0] = 0\n",
    "    grad_w1 = x.T.dot(grad_h)                  #dh/dw1 = x.T\n",
    "    \n",
    "    # 梯度更新\n",
    "    w1 -= lr * grad_w1\n",
    "    w2 -= lr * grad_w2\n",
    "\n",
    "    \n",
    "# 打印训练过程\n",
    "plt.plot(range(len(loss_list)), loss_list, color='r')\n",
    "plt.xlim(0,500)\n",
    "plt.xlabel('epochs')\n",
    "plt.ylabel('loss')\n",
    "plt.show()\n",
    "\n"
   ]
  },
  {
   "cell_type": "markdown",
   "id": "3c44c4e0-3c94-47a2-9197-906948c9724e",
   "metadata": {},
   "source": [
    "## PyTorch实现"
   ]
  },
  {
   "cell_type": "markdown",
   "id": "8059dbf6-1565-44b1-9e26-c998f9887268",
   "metadata": {},
   "source": [
    "### pytorch tensor实现\n",
    "- 这里使用pytorch tensor来创建神经网路，前向传播，损失函数，反向传播"
   ]
  },
  {
   "cell_type": "code",
   "execution_count": 107,
   "id": "6f552467-3283-44f1-9cb2-77335ea75b4e",
   "metadata": {},
   "outputs": [
    {
     "name": "stdout",
     "output_type": "stream",
     "text": [
      "0 614.2645684068063\n",
      "1 668.7027142161156\n",
      "2 845.4242485285125\n",
      "3 1067.3186590704765\n",
      "4 1153.855554218118\n",
      "5 911.8330548954672\n",
      "6 468.15377815414456\n",
      "7 216.2848815798275\n",
      "8 161.5002012382647\n",
      "9 146.57788032305558\n",
      "100 11.10720135205084\n",
      "200 3.2889929104870954\n",
      "300 1.2764916763363008\n",
      "400 0.5523863607370482\n",
      "500 0.25484883633700234\n",
      "600 0.12297976646856523\n",
      "700 0.06149924150634968\n",
      "800 0.03173702883083311\n",
      "900 0.016943680927842195\n",
      "1000 0.009507821379275787\n",
      "4.5393900871276855\n"
     ]
    },
    {
     "data": {
      "image/png": "[encoded data removed]",
      "text/plain": [
       "<Figure size 432x288 with 1 Axes>"
      ]
     },
     "metadata": {
      "needs_background": "light"
     },
     "output_type": "display_data"
    }
   ],
   "source": [
    "import torch\n",
    "\n",
    "dtype = torch.float              # 设置数据类型\n",
    "device = torch.device('cpu')     # 配置计算类型 cpu/gpu\n",
    "\n",
    "# 转到GPU上运算\n",
    "# if torch.cuda.is_available():\n",
    "#     device = torch.device('cuda')\n",
    "\n",
    "# 定义数据维度\n",
    "N, D_in, H, D_out = 100, 784,100,10   # N是batch, D_in是输入维度，H为隐藏层维度，D_OUT为输出维度\n",
    "\n",
    "# 构造数据集\n",
    "x = torch.randn(N, D_in, device=device, dtype=dtype)\n",
    "y = torch.randn(N, D_out, device=device, dtype=dtype)\n",
    "\n",
    "# 随机初始化权重参数\n",
    "w1 = torch.randn(D_in, H, device=device, dtype=dtype)\n",
    "w2 = torch.randn(H, D_out, device=device, dtype=dtype)\n",
    "\n",
    "lr = 1e-6\n",
    "epochs = 1001\n",
    "loss_list = []\n",
    "\n",
    "# 学习过程，梯度下降迭代\n",
    "for t in range(epochs):\n",
    "    # 前向计算\n",
    "    h = x.mm(w1)    # z =xw\n",
    "    h_relu = h.clamp(min=0)    # h = relu(z)\n",
    "    y_pred = h_relu.mm(w2)     # 输出结果\n",
    "    \n",
    "    # 损失计算\n",
    "    loss = (y_pred-y).pow(2).sum().item()    # .item()将loss转为python数据格式\n",
    "    RMSE = np.sqrt(loss/N)\n",
    "    loss_list.append(RMSE)\n",
    "    \n",
    "    if t < 10:\n",
    "        print(t, RMSE)        # 打印RMSE\n",
    "    elif t % 100 == 0:\n",
    "        print(t, RMSE)        # 打印RMSE\n",
    "    \n",
    "    # 反向传播过程\n",
    "    grad_y_pred = 2.0 * (y_pred - y)          # 计算损失函数对预测值的梯度\n",
    "    grad_w2 = h_relu.t().mm(grad_y_pred)      # 计算w2的梯度\n",
    "    grad_h_relu = grad_y_pred.mm(w2.t())      # 计算隐藏层输出的梯度\n",
    "    grad_h = grad_h_relu.clone()\n",
    "    grad_h[h<0] = 0\n",
    "    grad_w1 = x.t().mm(grad_h)                # 计算w1的梯度\n",
    "    \n",
    "    # 更新梯度\n",
    "    w1 -= lr * grad_w1\n",
    "    w2 -= lr * grad_w2\n",
    "\n",
    "\n",
    "print(t2-t1)\n",
    "\n",
    "# 打印训练过程\n",
    "plt.plot(range(len(loss_list)), loss_list, color='r')\n",
    "plt.xlim(0, 500)\n",
    "plt.xlabel('epochs')\n",
    "plt.ylabel('loss')\n",
    "plt.show()\n"
   ]
  },
  {
   "cell_type": "markdown",
   "id": "380164f0-4994-40bb-a6cf-0ab2476c74b3",
   "metadata": {},
   "source": [
    "### pytorch tensor and autograd"
   ]
  },
  {
   "cell_type": "markdown",
   "id": "623fc7e2-68e6-4f87-9871-390d3d17413c",
   "metadata": {},
   "source": [
    "#### 利用backward方法求导数\n",
    "- Pytorch通过backward()方法实现梯度的自动计算，梯度值保存到tensor变量的grad属性中\n",
    "- backward 方法通常在一个标量张量上调用，该方法求得的梯度将存在对应自变量张量的grad属性下\n",
    "- pytorch中对tensor变量的梯度会累积，所以每一次更新梯度后都需要将原来的梯度清零：tensor.grad.zero_()\n",
    "- tensor的requires_grad的属性默认为False,若一个节点（叶子变量：自己创建的tensor）requires_grad被设置为True，那么所有依赖它的节点requires_grad自动为True（即使其他相依赖的tensor的requires_grad = False）\n"
   ]
  },
  {
   "cell_type": "markdown",
   "id": "21e77212-3dca-43eb-93f9-e43cc002f2d5",
   "metadata": {},
   "source": [
    "- 计算图 ：y=(a+b)(b+1)</br></br>\n",
    "![image-20210628184807972](https://gitee.com/jhongtao/mdpic/raw/master/mdimg/20210628184817.png)"
   ]
  },
  {
   "cell_type": "markdown",
   "id": "fb76b88f-73ca-4368-a07a-0f00f5c5bb10",
   "metadata": {},
   "source": [
    "- 用pytorch实现y=(a+b)(b++1)的计算图"
   ]
  },
  {
   "cell_type": "code",
   "execution_count": 122,
   "id": "0a3b9201-b675-42d9-bfdf-8d6743ca7a2e",
   "metadata": {},
   "outputs": [
    {
     "name": "stdout",
     "output_type": "stream",
     "text": [
      "tensor(2.)\n",
      "tensor(5.)\n"
     ]
    },
    {
     "data": {
      "text/plain": [
       "tensor(0.)"
      ]
     },
     "execution_count": 122,
     "metadata": {},
     "output_type": "execute_result"
    }
   ],
   "source": [
    "import torch\n",
    "\n",
    "# y = (a+b)*(b+1)\n",
    "a = torch.tensor(2., requires_grad=True)\n",
    "b = torch.tensor(1., requires_grad=True)\n",
    "y = (a+b)*(b+1)\n",
    "\n",
    "y.backward()\n",
    "\n",
    "dy_da = a.grad\n",
    "dy_db = b.grad\n",
    "\n",
    "print(dy_da)\n",
    "print(dy_db)\n",
    "\n",
    "a.grad.zero_()\n",
    "b.grad.zero_()"
   ]
  },
  {
   "cell_type": "markdown",
   "id": "b605160f-a700-44d4-b6de-2f20fa9d54a5",
   "metadata": {},
   "source": [
    "#### 用pytorch的自动求导机制实现backward"
   ]
  },
  {
   "cell_type": "code",
   "execution_count": 134,
   "id": "d901baf1-ac70-4ad2-9066-6cce9743a7eb",
   "metadata": {},
   "outputs": [
    {
     "name": "stdout",
     "output_type": "stream",
     "text": [
      "0 584.9428006224199\n",
      "1 630.1979371594293\n",
      "2 887.6427659819011\n",
      "3 1320.3850953415067\n",
      "4 1640.5591242012586\n",
      "5 1209.7698293477151\n",
      "6 305.9783652482639\n",
      "7 156.004455064591\n",
      "8 143.60614105949648\n",
      "9 133.86648198858444\n",
      "1000 0.01694319942080055\n",
      "2000 0.0010834263735198446\n",
      "3000 0.0005764468923770873\n",
      "4000 0.0004218027651970676\n",
      "5000 0.00034298847402099283\n",
      "6000 0.0002946511190077998\n",
      "7000 0.0002607082906243017\n",
      "8000 0.00023752229066097242\n",
      "9000 0.00021847504676242627\n",
      "10000 0.0002041529943113512\n",
      "5.565657615661621\n"
     ]
    },
    {
     "data": {
      "image/png": "[encoded data removed]",
      "text/plain": [
       "<Figure size 432x288 with 1 Axes>"
      ]
     },
     "metadata": {
      "needs_background": "light"
     },
     "output_type": "display_data"
    }
   ],
   "source": [
    "import torch\n",
    "import time\n",
    "\n",
    "dtype = torch.float              # 设置数据类型\n",
    "device = torch.device('cpu')     # 配置计算类型 cpu/gpu\n",
    "\n",
    "# 转到GPU上运算\n",
    "# if torch.cuda.is_available():\n",
    "#     device = torch.device('cuda')\n",
    "\n",
    "# 定义数据维度\n",
    "N, D_in, H, D_out = 100, 784,100,10   # N是batch, D_in是输入维度，H为隐藏层维度，D_OUT为输出维度\n",
    "\n",
    "# 构造数据集\n",
    "x = torch.randn(N, D_in, device=device, dtype=dtype, requires_grad=True)\n",
    "y = torch.randn(N, D_out, device=device, dtype=dtype)\n",
    "\n",
    "# 随机初始化权重参数\n",
    "w1 = torch.randn(D_in, H, device=device, dtype=dtype, requires_grad=True)\n",
    "w2 = torch.randn(H, D_out, device=device, dtype=dtype, requires_grad=True)\n",
    "\n",
    "lr = 1e-6\n",
    "epochs = 10001\n",
    "loss_list = []\n",
    "\n",
    "t1 = time.time()\n",
    "\n",
    "# 学习过程，梯度下降迭代\n",
    "for t in range(epochs):\n",
    "    # 一步到位直接计算出预测值\n",
    "    y_pred = x.mm(w1).clamp(min=0).mm(w2)\n",
    "    \n",
    "    # 计算loss\n",
    "    loss = (y_pred - y).pow(2).sum()\n",
    "    RMSE = np.sqrt(loss.item()/N)\n",
    "    loss_list.append(RMSE)\n",
    "    \n",
    "    if t < 10:\n",
    "        print(t, RMSE)        # 打印RMSE\n",
    "    elif t % 1000 == 0:\n",
    "        print(t, RMSE)        # 打印RMSE\n",
    "    \n",
    "    # backward，计算梯度\n",
    "    loss.backward()\n",
    "    \n",
    "    # 对w1,w2的梯度\n",
    "    with torch.no_grad():\n",
    "        w1 -= lr * w1.grad\n",
    "        w2 -= lr * w2.grad\n",
    "        \n",
    "        # 每次更新梯度后需要清空梯度，pytorch默认会自动累计梯度\n",
    "        w1.grad.zero_()\n",
    "        w2.grad.zero_()\n",
    "\n",
    "t2 = time.time()\n",
    "print(t2 - t1)\n",
    "        \n",
    "# 打印训练过程\n",
    "plt.plot(range(len(loss_list)), loss_list, color='r')\n",
    "plt.xlim(0, 500)\n",
    "plt.xlabel('epochs')\n",
    "plt.ylabel('loss')\n",
    "plt.show()"
   ]
  },
  {
   "cell_type": "markdown",
   "id": "7c594868-6073-4bf4-92ab-6e7919481a8f",
   "metadata": {},
   "source": [
    "#### PyTorch:nn\n"
   ]
  },
  {
   "cell_type": "code",
   "execution_count": 9,
   "id": "6c47cf5f-830e-4dde-97ab-02ac8e472e56",
   "metadata": {},
   "outputs": [
    {
     "ename": "RuntimeError",
     "evalue": "Expected all tensors to be on the same device, but found at least two devices, cuda:0 and cpu!",
     "output_type": "error",
     "traceback": [
      "\u001b[1;31m---------------------------------------------------------------------------\u001b[0m",
      "\u001b[1;31mRuntimeError\u001b[0m                              Traceback (most recent call last)",
      "\u001b[1;32m<ipython-input-9-3b559e35d4b9>\u001b[0m in \u001b[0;36m<module>\u001b[1;34m\u001b[0m\n\u001b[0;32m     34\u001b[0m \u001b[1;33m\u001b[0m\u001b[0m\n\u001b[0;32m     35\u001b[0m     \u001b[1;31m# 计算损失\u001b[0m\u001b[1;33m\u001b[0m\u001b[1;33m\u001b[0m\u001b[1;33m\u001b[0m\u001b[0m\n\u001b[1;32m---> 36\u001b[1;33m     \u001b[0mloss\u001b[0m \u001b[1;33m=\u001b[0m \u001b[0mloss_fn\u001b[0m\u001b[1;33m(\u001b[0m\u001b[0my_pred\u001b[0m\u001b[1;33m,\u001b[0m \u001b[0my\u001b[0m\u001b[1;33m)\u001b[0m\u001b[1;33m\u001b[0m\u001b[1;33m\u001b[0m\u001b[0m\n\u001b[0m\u001b[0;32m     37\u001b[0m \u001b[1;33m\u001b[0m\u001b[0m\n\u001b[0;32m     38\u001b[0m     \u001b[0mRMSE\u001b[0m \u001b[1;33m=\u001b[0m \u001b[0mnp\u001b[0m\u001b[1;33m.\u001b[0m\u001b[0msqrt\u001b[0m\u001b[1;33m(\u001b[0m\u001b[0mloss\u001b[0m\u001b[1;33m.\u001b[0m\u001b[0mitem\u001b[0m\u001b[1;33m(\u001b[0m\u001b[1;33m)\u001b[0m\u001b[1;33m/\u001b[0m\u001b[0mN\u001b[0m\u001b[1;33m)\u001b[0m\u001b[1;33m\u001b[0m\u001b[1;33m\u001b[0m\u001b[0m\n",
      "\u001b[1;32mD:\\ProgramData\\Anaconda3\\envs\\study-ml\\lib\\site-packages\\torch\\nn\\modules\\module.py\u001b[0m in \u001b[0;36m_call_impl\u001b[1;34m(self, *input, **kwargs)\u001b[0m\n\u001b[0;32m    887\u001b[0m             \u001b[0mresult\u001b[0m \u001b[1;33m=\u001b[0m \u001b[0mself\u001b[0m\u001b[1;33m.\u001b[0m\u001b[0m_slow_forward\u001b[0m\u001b[1;33m(\u001b[0m\u001b[1;33m*\u001b[0m\u001b[0minput\u001b[0m\u001b[1;33m,\u001b[0m \u001b[1;33m**\u001b[0m\u001b[0mkwargs\u001b[0m\u001b[1;33m)\u001b[0m\u001b[1;33m\u001b[0m\u001b[1;33m\u001b[0m\u001b[0m\n\u001b[0;32m    888\u001b[0m         \u001b[1;32melse\u001b[0m\u001b[1;33m:\u001b[0m\u001b[1;33m\u001b[0m\u001b[1;33m\u001b[0m\u001b[0m\n\u001b[1;32m--> 889\u001b[1;33m             \u001b[0mresult\u001b[0m \u001b[1;33m=\u001b[0m \u001b[0mself\u001b[0m\u001b[1;33m.\u001b[0m\u001b[0mforward\u001b[0m\u001b[1;33m(\u001b[0m\u001b[1;33m*\u001b[0m\u001b[0minput\u001b[0m\u001b[1;33m,\u001b[0m \u001b[1;33m**\u001b[0m\u001b[0mkwargs\u001b[0m\u001b[1;33m)\u001b[0m\u001b[1;33m\u001b[0m\u001b[1;33m\u001b[0m\u001b[0m\n\u001b[0m\u001b[0;32m    890\u001b[0m         for hook in itertools.chain(\n\u001b[0;32m    891\u001b[0m                 \u001b[0m_global_forward_hooks\u001b[0m\u001b[1;33m.\u001b[0m\u001b[0mvalues\u001b[0m\u001b[1;33m(\u001b[0m\u001b[1;33m)\u001b[0m\u001b[1;33m,\u001b[0m\u001b[1;33m\u001b[0m\u001b[1;33m\u001b[0m\u001b[0m\n",
      "\u001b[1;32mD:\\ProgramData\\Anaconda3\\envs\\study-ml\\lib\\site-packages\\torch\\nn\\modules\\loss.py\u001b[0m in \u001b[0;36mforward\u001b[1;34m(self, input, target)\u001b[0m\n\u001b[0;32m    526\u001b[0m \u001b[1;33m\u001b[0m\u001b[0m\n\u001b[0;32m    527\u001b[0m     \u001b[1;32mdef\u001b[0m \u001b[0mforward\u001b[0m\u001b[1;33m(\u001b[0m\u001b[0mself\u001b[0m\u001b[1;33m,\u001b[0m \u001b[0minput\u001b[0m\u001b[1;33m:\u001b[0m \u001b[0mTensor\u001b[0m\u001b[1;33m,\u001b[0m \u001b[0mtarget\u001b[0m\u001b[1;33m:\u001b[0m \u001b[0mTensor\u001b[0m\u001b[1;33m)\u001b[0m \u001b[1;33m->\u001b[0m \u001b[0mTensor\u001b[0m\u001b[1;33m:\u001b[0m\u001b[1;33m\u001b[0m\u001b[1;33m\u001b[0m\u001b[0m\n\u001b[1;32m--> 528\u001b[1;33m         \u001b[1;32mreturn\u001b[0m \u001b[0mF\u001b[0m\u001b[1;33m.\u001b[0m\u001b[0mmse_loss\u001b[0m\u001b[1;33m(\u001b[0m\u001b[0minput\u001b[0m\u001b[1;33m,\u001b[0m \u001b[0mtarget\u001b[0m\u001b[1;33m,\u001b[0m \u001b[0mreduction\u001b[0m\u001b[1;33m=\u001b[0m\u001b[0mself\u001b[0m\u001b[1;33m.\u001b[0m\u001b[0mreduction\u001b[0m\u001b[1;33m)\u001b[0m\u001b[1;33m\u001b[0m\u001b[1;33m\u001b[0m\u001b[0m\n\u001b[0m\u001b[0;32m    529\u001b[0m \u001b[1;33m\u001b[0m\u001b[0m\n\u001b[0;32m    530\u001b[0m \u001b[1;33m\u001b[0m\u001b[0m\n",
      "\u001b[1;32mD:\\ProgramData\\Anaconda3\\envs\\study-ml\\lib\\site-packages\\torch\\nn\\functional.py\u001b[0m in \u001b[0;36mmse_loss\u001b[1;34m(input, target, size_average, reduce, reduction)\u001b[0m\n\u001b[0;32m   2927\u001b[0m \u001b[1;33m\u001b[0m\u001b[0m\n\u001b[0;32m   2928\u001b[0m     \u001b[0mexpanded_input\u001b[0m\u001b[1;33m,\u001b[0m \u001b[0mexpanded_target\u001b[0m \u001b[1;33m=\u001b[0m \u001b[0mtorch\u001b[0m\u001b[1;33m.\u001b[0m\u001b[0mbroadcast_tensors\u001b[0m\u001b[1;33m(\u001b[0m\u001b[0minput\u001b[0m\u001b[1;33m,\u001b[0m \u001b[0mtarget\u001b[0m\u001b[1;33m)\u001b[0m\u001b[1;33m\u001b[0m\u001b[1;33m\u001b[0m\u001b[0m\n\u001b[1;32m-> 2929\u001b[1;33m     \u001b[1;32mreturn\u001b[0m \u001b[0mtorch\u001b[0m\u001b[1;33m.\u001b[0m\u001b[0m_C\u001b[0m\u001b[1;33m.\u001b[0m\u001b[0m_nn\u001b[0m\u001b[1;33m.\u001b[0m\u001b[0mmse_loss\u001b[0m\u001b[1;33m(\u001b[0m\u001b[0mexpanded_input\u001b[0m\u001b[1;33m,\u001b[0m \u001b[0mexpanded_target\u001b[0m\u001b[1;33m,\u001b[0m \u001b[0m_Reduction\u001b[0m\u001b[1;33m.\u001b[0m\u001b[0mget_enum\u001b[0m\u001b[1;33m(\u001b[0m\u001b[0mreduction\u001b[0m\u001b[1;33m)\u001b[0m\u001b[1;33m)\u001b[0m\u001b[1;33m\u001b[0m\u001b[1;33m\u001b[0m\u001b[0m\n\u001b[0m\u001b[0;32m   2930\u001b[0m \u001b[1;33m\u001b[0m\u001b[0m\n\u001b[0;32m   2931\u001b[0m \u001b[1;33m\u001b[0m\u001b[0m\n",
      "\u001b[1;31mRuntimeError\u001b[0m: Expected all tensors to be on the same device, but found at least two devices, cuda:0 and cpu!"
     ]
    }
   ],
   "source": [
    "import torch\n",
    "import time\n",
    "\n",
    "device = torch.device(\"cuda:0\" if torch.cuda.is_available() else \"cpu\")     # 配置计算类型 cpu/gpu\n",
    "\n",
    "# 定义数据维度\n",
    "N, D_in, H, D_out = 100, 784,100,10   # N是batch, D_in是输入维度，H为隐藏层维度，D_OUT为输出维度\n",
    "\n",
    "# 创建数据集\n",
    "x = torch.randn(N, D_in)\n",
    "y = torch.randn(N, D_out)\n",
    "\n",
    "# 创建网络模型\n",
    "model = torch.nn.Sequential(\n",
    "    torch.nn.Linear(D_in, H),\n",
    "    torch.nn.ReLU(),\n",
    "    torch.nn.Linear(H, D_out),\n",
    ")\n",
    "\n",
    "# 定义损失函数\n",
    "loss_fn = torch.nn.MSELoss(reduction='sum')\n",
    "\n",
    "lr = 1e-4\n",
    "epochs = 10001\n",
    "loss_list = []\n",
    "\n",
    "t1 = time.time()\n",
    "\n",
    "# 学习过程，梯度下降迭代\n",
    "for t in range(epochs):\n",
    "    # 网络模型forward\n",
    "    \n",
    "    y_pred = model(x).to(device)\n",
    "    \n",
    "    # 计算损失\n",
    "    loss = loss_fn(y_pred, y)\n",
    "    \n",
    "    RMSE = np.sqrt(loss.item()/N)\n",
    "    loss_list.append(RMSE)\n",
    "    if t < 10:\n",
    "        print(t, RMSE)        # 打印RMSE\n",
    "    elif t % 1000 == 0:\n",
    "        print(t, RMSE)        # 打印RMSE\n",
    "    \n",
    "    # 更新梯度之前先清零\n",
    "    model.zero_grad()\n",
    "    \n",
    "    # backward\n",
    "    loss.backward()\n",
    "    \n",
    "    # 梯度更新\n",
    "    with torch.no_grad():\n",
    "        for param in model.parameters():\n",
    "            param -= lr * param.grad\n",
    "\n",
    "            \n",
    "t2 = time.time()\n",
    "print(t2 - t1)\n",
    "\n",
    "# 打印训练过程\n",
    "plt.plot(range(len(loss_list)), loss_list, color='r')\n",
    "plt.xlim(0, 500)\n",
    "plt.xlabel('epochs')\n",
    "plt.ylabel('loss')\n",
    "plt.show()   \n",
    "    "
   ]
  }
 ],
 "metadata": {
  "kernelspec": {
   "display_name": "Python 3",
   "language": "python",
   "name": "python3"
  },
  "language_info": {
   "codemirror_mode": {
    "name": "ipython",
    "version": 3
   },
   "file_extension": ".py",
   "mimetype": "text/x-python",
   "name": "python",
   "nbconvert_exporter": "python",
   "pygments_lexer": "ipython3",
   "version": "3.7.10"
  }
 },
 "nbformat": 4,
 "nbformat_minor": 5
}
