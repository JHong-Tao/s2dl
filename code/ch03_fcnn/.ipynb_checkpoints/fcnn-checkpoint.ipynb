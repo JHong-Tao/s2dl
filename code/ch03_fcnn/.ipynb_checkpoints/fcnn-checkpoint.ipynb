{
 "cells": [
  {
   "cell_type": "markdown",
   "id": "eb0d650b-8a25-45c2-9975-e6dde15497cb",
   "metadata": {},
   "source": [
    "# Jupyter 快捷键\n",
    "- 模式切换\n",
    "    - esc 切换到命令模式\n",
    "    - Enter 切换到编辑模式\n",
    "- 编辑模式常用快捷键\n",
    "    - Ctrl + ]缩进\n",
    "    - Ctrl + Y 重做\n",
    "    - Ctrl + Enter 运行当前单元\n",
    "    - Alt + Enter 运行当前单元，并新建下一个单元\n",
    "- 命令模式常用快捷键\n",
    "    - Y:原单元转为 code\n",
    "    - M:原单元转为 Markdown\n",
    "    - R:原单元转为 源码格式\n",
    "    - A:在上方插入新单元\n",
    "    - B:在下方插入新单元\n",
    "    - DD:删除单元\n",
    "    - LL:中断内核\n",
    "    - OO:重启内核"
   ]
  },
  {
   "cell_type": "markdown",
   "id": "bb140119-fe1d-4f25-847e-ddaa6487edcc",
   "metadata": {},
   "source": [
    "# 1. 什么是PyTorch?"
   ]
  },
  {
   "cell_type": "markdown",
   "id": "b9ae56f7-b4bc-40f4-8e28-9ee294e15a6b",
   "metadata": {},
   "source": [
    "PyTorch是一个基于Python的科学计算库，它有如下特点：\n",
    "- 类似于Numpy,但是它可以使用GPU\n",
    "- 可以用它定义深度学习模型，可以灵活的进行深度学习模型的训练和使用\n",
    "- Tensors Tensor类似于Numpy的ndarray,唯一的区别是前者可以在GPU上加速运算"
   ]
  },
  {
   "cell_type": "markdown",
   "id": "38e81168-e6f1-42d3-bdfd-1adab300c0da",
   "metadata": {},
   "source": [
    "## 1.2 Tensors\n",
    "- 导入torch"
   ]
  },
  {
   "cell_type": "code",
   "execution_count": 10,
   "id": "905359df-80bb-4126-b609-fc33d9cfc9c3",
   "metadata": {},
   "outputs": [],
   "source": [
    "import torch"
   ]
  },
  {
   "cell_type": "markdown",
   "id": "2ae8a329-38c5-410f-b022-00a1e6a26eda",
   "metadata": {},
   "source": [
    "- 构造一个未初始化的矩阵：shape=5x3"
   ]
  },
  {
   "cell_type": "code",
   "execution_count": null,
   "id": "f45a87c6-6792-4687-a99a-bc12122b431b",
   "metadata": {},
   "outputs": [],
   "source": []
  }
 ],
 "metadata": {
  "kernelspec": {
   "display_name": "Python 3",
   "language": "python",
   "name": "python3"
  },
  "language_info": {
   "codemirror_mode": {
    "name": "ipython",
    "version": 3
   },
   "file_extension": ".py",
   "mimetype": "text/x-python",
   "name": "python",
   "nbconvert_exporter": "python",
   "pygments_lexer": "ipython3",
   "version": "3.7.10"
  }
 },
 "nbformat": 4,
 "nbformat_minor": 5
}
