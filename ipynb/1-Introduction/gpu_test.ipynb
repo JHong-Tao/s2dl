{
 "cells": [
  {
   "cell_type": "markdown",
   "id": "0b47ab27-f7b6-4d72-b585-26126c58e4a7",
   "metadata": {},
   "source": [
    "# 测试GPU是否可用"
   ]
  },
  {
   "cell_type": "code",
   "execution_count": 1,
   "id": "7e6494a7-ca7f-45f6-bc99-198826261b08",
   "metadata": {},
   "outputs": [
    {
     "name": "stdout",
     "output_type": "stream",
     "text": [
      "True\n",
      "cuda:0\n",
      "GeForce RTX 2070 Super\n",
      "tensor([[0.2217, 0.4730, 0.1796],\n",
      "        [0.1388, 0.8139, 0.1196],\n",
      "        [0.2562, 0.0692, 0.0977]], device='cuda:0')\n"
     ]
    }
   ],
   "source": [
    "import torch\n",
    "flag = torch.cuda.is_available()\n",
    "print(flag)\n",
    " \n",
    "# Decide which device we want to run on\n",
    "device = torch.device(\"cuda:0\" if (torch.cuda.is_available()) else \"cpu\")\n",
    "print(device)\n",
    "print(torch.cuda.get_device_name(0))\n",
    "print(torch.rand(3,3).cuda()) "
   ]
  },
  {
   "cell_type": "markdown",
   "id": "663d5d21-611d-4939-a1dc-093ed0cbd695",
   "metadata": {},
   "source": [
    "# 你好"
   ]
  }
 ],
 "metadata": {
  "kernelspec": {
   "display_name": "study-ml(python3.7)",
   "language": "python",
   "name": "study-ml"
  },
  "language_info": {
   "codemirror_mode": {
    "name": "ipython",
    "version": 3
   },
   "file_extension": ".py",
   "mimetype": "text/x-python",
   "name": "python",
   "nbconvert_exporter": "python",
   "pygments_lexer": "ipython3",
   "version": "3.7.10"
  }
 },
 "nbformat": 4,
 "nbformat_minor": 5
}
