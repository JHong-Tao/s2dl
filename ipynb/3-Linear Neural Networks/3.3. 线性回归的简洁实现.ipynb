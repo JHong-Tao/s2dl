{
 "cells": [
  {
   "cell_type": "markdown",
   "metadata": {},
   "source": [
    "# 3.3. 线性回归的简洁实现"
   ]
  }
 ],
 "metadata": {
  "interpreter": {
   "hash": "3d14e0961078812d79ee67102c43e2b081b024463d371bad0b05a72d84949847"
  },
  "kernelspec": {
   "display_name": "Python 3.7.10 ('study-ml')",
   "language": "python",
   "name": "python3"
  },
  "language_info": {
   "name": "python",
   "version": "3.7.10"
  },
  "orig_nbformat": 4
 },
 "nbformat": 4,
 "nbformat_minor": 2
}
