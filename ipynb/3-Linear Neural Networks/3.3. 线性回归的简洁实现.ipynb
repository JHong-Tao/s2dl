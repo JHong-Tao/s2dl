{
 "cells": [
  {
   "cell_type": "markdown",
   "metadata": {},
   "source": [
    "# 3.3. 线性回归的简洁实现\n",
    "<font size=4>\n",
    "\n",
    "在过去的几年里，出于对深度学习强烈的兴趣， 许多公司、学者和业余爱好者开发了各种成熟的开源框架。 这些框架可以自动化基于梯度的学习算法中重复性的工作。 在 3.2节中，我们只运用了： （1）通过张量来进行数据存储和线性代数； （2）通过自动微分来计算梯度。 实际上，由于数据迭代器、损失函数、优化器和神经网络层很常用， 现代深度学习库也为我们实现了这些组件。\n",
    "\n",
    "<br>\n",
    "在本节中，我们将介绍如何通过使用深度学习框架来简洁地实现 3.2节中的线性回归模型。\n",
    "</font>"
   ]
  }
 ],
 "metadata": {
  "interpreter": {
   "hash": "3d14e0961078812d79ee67102c43e2b081b024463d371bad0b05a72d84949847"
  },
  "kernelspec": {
   "display_name": "Python 3.7.10 ('study-ml')",
   "language": "python",
   "name": "python3"
  },
  "language_info": {
   "name": "python",
   "version": "3.7.10"
  },
  "orig_nbformat": 4
 },
 "nbformat": 4,
 "nbformat_minor": 2
}
