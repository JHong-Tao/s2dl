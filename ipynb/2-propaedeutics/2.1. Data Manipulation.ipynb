{
 "cells": [
  {
   "cell_type": "markdown",
   "id": "d09cfd53-5765-4dc2-99f8-0b9afbe53717",
   "metadata": {},
   "source": [
    "# 2.1. 数据操作\n",
    "## 2.1.1. 入门\n",
    "- <font size=4> torch.arang()创建一维数组"
   ]
  },
  {
   "cell_type": "code",
   "execution_count": 46,
   "id": "e6c2ca50-2002-4cc3-b5dc-8cf5440118df",
   "metadata": {},
   "outputs": [
    {
     "data": {
      "text/plain": [
       "tensor([ 0,  1,  2,  3,  4,  5,  6,  7,  8,  9, 10, 11])"
      ]
     },
     "execution_count": 46,
     "metadata": {},
     "output_type": "execute_result"
    }
   ],
   "source": [
    "import torch\n",
    "from IPython.core.interactiveshell import InteractiveShell\n",
    "InteractiveShell.ast_node_interactivity = \"all\"  # 配置单元格支持多个输出\n",
    "x = torch.arange(12)  # torch.arange()方法创建长度为12的一维数组，从0到11\n",
    "# print(x)\n",
    "x"
   ]
  },
  {
   "cell_type": "markdown",
   "id": "b537a1b9-930c-4b40-a01a-a53558e7fbfb",
   "metadata": {},
   "source": [
    "- <font size=4>通过张量的shape属性来查看张量的维度和大小，也就是查看张量（沿每个轴的长度）的形状 "
   ]
  },
  {
   "cell_type": "code",
   "execution_count": 7,
   "id": "b1a561c8-b82f-4318-890f-36b40deea70f",
   "metadata": {},
   "outputs": [
    {
     "data": {
      "text/plain": [
       "torch.Size([12])"
      ]
     },
     "execution_count": 7,
     "metadata": {},
     "output_type": "execute_result"
    }
   ],
   "source": [
    "x.shape"
   ]
  },
  {
   "cell_type": "markdown",
   "id": "daa44dac-b0c1-4589-b96c-28760a8746d8",
   "metadata": {},
   "source": [
    "- <font size=4>可以通过张量的size()方法来查看张量的形状和大小"
   ]
  },
  {
   "cell_type": "code",
   "execution_count": 13,
   "id": "57184217-1770-412b-8b01-931aa203833b",
   "metadata": {},
   "outputs": [
    {
     "data": {
      "text/plain": [
       "torch.Size([12])"
      ]
     },
     "execution_count": 13,
     "metadata": {},
     "output_type": "execute_result"
    }
   ],
   "source": [
    "x.size()  # 属性和方法的区别，属性不需要括号，方法需要加上括号"
   ]
  },
  {
   "cell_type": "markdown",
   "id": "920d9e57-71b9-4ac4-9288-bf8298832305",
   "metadata": {},
   "source": [
    "- <font size=4>可以通过张量的numel()方法来查看张量的元素的个数"
   ]
  },
  {
   "cell_type": "code",
   "execution_count": 37,
   "id": "3dcd0c31-b3f0-4f1e-b521-20eab6c9603e",
   "metadata": {},
   "outputs": [
    {
     "data": {
      "text/plain": [
       "12"
      ]
     },
     "execution_count": 37,
     "metadata": {},
     "output_type": "execute_result"
    }
   ],
   "source": [
    "x.numel()"
   ]
  },
  {
   "cell_type": "markdown",
   "id": "fd66fea8-ed32-46d5-8730-9a9e3ca7bfc0",
   "metadata": {},
   "source": [
    "- <font size=4>可以通过张量的reshape()函数来改变张量的形状，但是这个过程不会改变张量的元素的值"
   ]
  },
  {
   "cell_type": "code",
   "execution_count": 45,
   "id": "8dba6183-1368-40d5-8f98-98041f2cbf87",
   "metadata": {},
   "outputs": [
    {
     "data": {
      "text/plain": [
       "tensor([ 0,  1,  2,  3,  4,  5,  6,  7,  8,  9, 10, 11])"
      ]
     },
     "execution_count": 45,
     "metadata": {},
     "output_type": "execute_result"
    },
    {
     "data": {
      "text/plain": [
       "tensor([[ 0,  1,  2,  3],\n",
       "        [ 4,  5,  6,  7],\n",
       "        [ 8,  9, 10, 11]])"
      ]
     },
     "execution_count": 45,
     "metadata": {},
     "output_type": "execute_result"
    }
   ],
   "source": [
    "x\n",
    "x1 = x.reshape(3, 4)  # 将x是1行12列，修改为3行4列\n",
    "x1"
   ]
  },
  {
   "cell_type": "markdown",
   "id": "2b143ffb-6bec-432c-9d21-cc81b5821f3a",
   "metadata": {},
   "source": [
    "- <font size=4>张量的reshape()方法还能自动推理改变张量维度大小的一个维度，用“-1”代替该维度的值"
   ]
  },
  {
   "cell_type": "code",
   "execution_count": 21,
   "id": "6635059a-eaac-43af-b0be-d14c2c70a89b",
   "metadata": {},
   "outputs": [
    {
     "data": {
      "text/plain": [
       "tensor([[ 0,  1],\n",
       "        [ 2,  3],\n",
       "        [ 4,  5],\n",
       "        [ 6,  7],\n",
       "        [ 8,  9],\n",
       "        [10, 11]])"
      ]
     },
     "execution_count": 21,
     "metadata": {},
     "output_type": "execute_result"
    }
   ],
   "source": [
    "x.reshape(-1,2)  # 比如该列中，只给了将1行12列的张量x转为2列6行的张量，只要显性的给出任意一个维度的值，另一维度用-1代替，reshape()方法会自动推断另一维度的大小"
   ]
  },
  {
   "cell_type": "code",
   "execution_count": 47,
   "id": "8772fe49-f727-4e95-928b-0f104b02330e",
   "metadata": {},
   "outputs": [
    {
     "data": {
      "text/plain": [
       "tensor([[[ 0,  1,  2],\n",
       "         [ 3,  4,  5]],\n",
       "\n",
       "        [[ 6,  7,  8],\n",
       "         [ 9, 10, 11]]])"
      ]
     },
     "execution_count": 47,
     "metadata": {},
     "output_type": "execute_result"
    }
   ],
   "source": [
    "x.reshape(2,2,-1)  # 该例中，自动推断了2个2行3列的张量\n"
   ]
  }
 ],
 "metadata": {
  "kernelspec": {
   "display_name": "study-ml(python3.7)",
   "language": "python",
   "name": "study-ml"
  },
  "language_info": {
   "codemirror_mode": {
    "name": "ipython",
    "version": 3
   },
   "file_extension": ".py",
   "mimetype": "text/x-python",
   "name": "python",
   "nbconvert_exporter": "python",
   "pygments_lexer": "ipython3",
   "version": "3.7.10"
  }
 },
 "nbformat": 4,
 "nbformat_minor": 5
}
