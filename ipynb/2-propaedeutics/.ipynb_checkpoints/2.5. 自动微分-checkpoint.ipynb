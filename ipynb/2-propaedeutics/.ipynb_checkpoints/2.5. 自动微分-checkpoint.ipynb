{
 "cells": [
  {
   "cell_type": "markdown",
   "id": "d8ff4d91-51cc-4cce-a04f-007ca9266a0c",
   "metadata": {},
   "source": [
    "# 2.5. 自动微分\n",
    "<font size=4>\n",
    "正如我们在 2.4节中所说的那样，求导是几乎所有深度学习优化算法的关键步骤。 虽然求导的计算很简单，只需要一些基本的微积分。 但对于复杂的模型，手工进行更新是一件很痛苦的事情（而且经常容易出错）。  <br><br>\n",
    "\n",
    "深度学习框架通过自动计算导数，即自动微分（automatic differentiation）来加快求导。 实际中，根据我们设计的模型，系统会构建一个计算图（computational graph）， 来跟踪计算是哪些数据通过哪些操作组合起来产生输出。 自动微分使系统能够随后反向传播梯度。 这里，反向传播（backpropagate）意味着跟踪整个计算图，填充关于每个参数的偏导数。\n",
    "\n",
    "\n",
    "</font>\n"
   ]
  },
  {
   "cell_type": "markdown",
   "id": "9f431488-9809-4f66-b9e4-342641371850",
   "metadata": {},
   "source": [
    "## 2.5.1. 一个简单的例子\n",
    "<font size=4>\n",
    "    作为一个演示例子，假设我们想对函数$y=2\\mathrm{x}^{\\mathrm{T}}\\mathrm{x}$关于列向量$\\mathrm{x}$求导。 首先，我们创建变量$\\mathrm{x}$并为其分配一个初始值。\n",
    "</font>"
   ]
  },
  {
   "cell_type": "code",
   "execution_count": 55,
   "id": "c3313b9d-0b9a-4ff3-b494-ce116a7ef5e4",
   "metadata": {},
   "outputs": [
    {
     "data": {
      "text/plain": [
       "tensor([0., 1., 2., 3.])"
      ]
     },
     "execution_count": 55,
     "metadata": {},
     "output_type": "execute_result"
    }
   ],
   "source": [
    "import torch\n",
    "from IPython.core.interactiveshell import InteractiveShell\n",
    "InteractiveShell.ast_node_interactivity = 'all'\n",
    "x = torch.arange(4.0)\n",
    "x"
   ]
  },
  {
   "cell_type": "markdown",
   "id": "6bc3a1d1-c420-4099-bba8-e66b0f55dc89",
   "metadata": {},
   "source": [
    "<font size=4>\n",
    "在我们计算$y$关于$\\mathrm{x}$的梯度之前，我们需要一个地方来存储梯度。 重要的是，我们不会在每次对一个参数求导时都分配新的内存。 因为我们经常会成千上万次地更新相同的参数，每次都分配新的内存可能很快就会将内存耗尽。 注意，一个标量函数$y$关于向量$\\mathrm{x}$的梯度是向量，并且与具有相同的形状。\n",
    "</font>"
   ]
  },
  {
   "cell_type": "code",
   "execution_count": 56,
   "id": "c6b9abce-e9b6-4048-b5ba-a025c2ed71aa",
   "metadata": {},
   "outputs": [
    {
     "data": {
      "text/plain": [
       "tensor([0., 1., 2., 3.], requires_grad=True)"
      ]
     },
     "execution_count": 56,
     "metadata": {},
     "output_type": "execute_result"
    }
   ],
   "source": [
    "x.requires_grad_(True)  # 等价于x=torch.arange(4.0, requires_grad=True)\n",
    "x.grad  # 默认情况下没有梯度"
   ]
  },
  {
   "cell_type": "markdown",
   "id": "49e50552-a34d-48a2-b3f7-4d56c7598108",
   "metadata": {},
   "source": [
    "<font size=4>\n",
    "    现在让我们计算$y=2\\mathrm{x}^{\\mathrm{T}}\\mathrm{x}$。\n",
    "    </font>"
   ]
  },
  {
   "cell_type": "code",
   "execution_count": 57,
   "id": "80005de5-25af-4d35-862d-1e47a54f80c6",
   "metadata": {},
   "outputs": [
    {
     "data": {
      "text/plain": [
       "tensor(28., grad_fn=<MulBackward0>)"
      ]
     },
     "execution_count": 57,
     "metadata": {},
     "output_type": "execute_result"
    }
   ],
   "source": [
    "y = 2 * torch.dot(x, x)  # 2*(0*0+1*1+2*2+3*3)=28\n",
    "y"
   ]
  },
  {
   "cell_type": "markdown",
   "id": "c4a77525-3d30-4a0f-92f3-12c5f740136c",
   "metadata": {},
   "source": [
    "<font size=4>\n",
    "    $\\mathrm{x}$是一个长度为4的向量，计算$\\mathrm{x}$和$\\mathrm{x}$的点积，得到了我们赋值给$y$的标量输出。 接下来，我们通过调用反向传播函数来自动计算$y$关于向量$\\mathrm{x}$的每个分量的梯度，并打印这些梯度。\n",
    "</font>"
   ]
  },
  {
   "cell_type": "code",
   "execution_count": 58,
   "id": "448f24eb-7d7b-42a4-bb80-a060ebf8ec96",
   "metadata": {},
   "outputs": [
    {
     "data": {
      "text/plain": [
       "tensor([ 0.,  4.,  8., 12.])"
      ]
     },
     "execution_count": 58,
     "metadata": {},
     "output_type": "execute_result"
    }
   ],
   "source": [
    "y.backward()  # 反向传播，求标量y对向量x的每一个分量的梯度\n",
    "x.grad  # y对向量x的每一个分量的梯度"
   ]
  },
  {
   "cell_type": "markdown",
   "id": "0c54abf6-b1c4-418b-ae8d-e3fce86d06ea",
   "metadata": {},
   "source": [
    "<font size=4>\n",
    "    函数$y=2\\mathrm{x}^{\\mathrm{T}}\\mathrm{x}$关于向量$\\mathrm{x}$的梯度应为$4\\mathrm{x}$。 让我们快速验证这个梯度是否计算正确。\n",
    "</font>"
   ]
  },
  {
   "cell_type": "code",
   "execution_count": 59,
   "id": "5245d42e-3889-42f6-86d4-be67be2a9d25",
   "metadata": {},
   "outputs": [
    {
     "data": {
      "text/plain": [
       "tensor([True, True, True, True])"
      ]
     },
     "execution_count": 59,
     "metadata": {},
     "output_type": "execute_result"
    }
   ],
   "source": [
    "x.grad == 4 * x"
   ]
  },
  {
   "cell_type": "markdown",
   "id": "ea11f7a6-7994-45ba-b139-5582d8f05ac4",
   "metadata": {},
   "source": [
    "<font size=4>\n",
    "    现在让我们计算$\\mathrm{x}$的另一个函数$y=x_{1}+x_{2}+\\dots +x_{n}$。\n",
    "</font>"
   ]
  },
  {
   "cell_type": "code",
   "execution_count": 60,
   "id": "97a026d8-dfca-4641-943f-06121e0b06fd",
   "metadata": {},
   "outputs": [
    {
     "data": {
      "text/plain": [
       "tensor([0., 0., 0., 0.])"
      ]
     },
     "execution_count": 60,
     "metadata": {},
     "output_type": "execute_result"
    },
    {
     "data": {
      "text/plain": [
       "tensor([1., 1., 1., 1.])"
      ]
     },
     "execution_count": 60,
     "metadata": {},
     "output_type": "execute_result"
    }
   ],
   "source": [
    "x.grad.zero_()  # 在默认情况下，PyTorch会累积梯度，我们需要清除之前的值\n",
    "y = x.sum()\n",
    "y.backward()\n",
    "x.grad"
   ]
  },
  {
   "cell_type": "markdown",
   "id": "a3e0c9d4-b863-4e58-a914-3a0e7d997595",
   "metadata": {},
   "source": [
    "## 2.5.2. 非标量变量的反向传播\n",
    "<font size=4>\n",
    "当$\\mathrm{y}$不是标量时，向量$\\mathrm{y}$关于向量$\\mathrm{x}$的导数的最自然解释是一个矩阵。 对于高阶和高维的$\\mathrm{y}$和$\\mathrm{x}$，求导的结果可以是一个高阶张量。<br><br>\n",
    "\n",
    "然而，虽然这些更奇特的对象确实出现在高级机器学习中（包括深度学习中）， 但当我们调用向量的反向计算时，我们通常会试图计算损失函数对一批训练样本中的每个样本的组成部分的每个分量(特征)的导数。 这里，我们的目的不是计算微分矩阵，而是单独计算批量中每个样本的偏导数之和。\n",
    "</font>"
   ]
  },
  {
   "cell_type": "code",
   "execution_count": 61,
   "id": "f57c5f68-2800-4066-b161-3c0a55242c8f",
   "metadata": {},
   "outputs": [
    {
     "data": {
      "text/plain": [
       "tensor([0., 0., 0., 0.])"
      ]
     },
     "execution_count": 61,
     "metadata": {},
     "output_type": "execute_result"
    },
    {
     "data": {
      "text/plain": [
       "tensor([0., 1., 4., 9.], grad_fn=<MulBackward0>)"
      ]
     },
     "execution_count": 61,
     "metadata": {},
     "output_type": "execute_result"
    },
    {
     "data": {
      "text/plain": [
       "tensor(14., grad_fn=<SumBackward0>)"
      ]
     },
     "execution_count": 61,
     "metadata": {},
     "output_type": "execute_result"
    },
    {
     "data": {
      "text/plain": [
       "tensor([0., 2., 4., 6.])"
      ]
     },
     "execution_count": 61,
     "metadata": {},
     "output_type": "execute_result"
    }
   ],
   "source": [
    "# 对非标量调用backward需要传入一个gradient参数，该参数指定微分函数关于self的梯度。\n",
    "# 在我们的例子中，我们只想求偏导数的和，所以传递一个1的梯度是合适的\n",
    "x.grad.zero_()  # 清除x之前的梯度\n",
    "y = x * x\n",
    "# 等价于y.backward(torch.ones(len(x)))\n",
    "y\n",
    "y.sum()\n",
    "y.sum().backward()\n",
    "x.grad"
   ]
  },
  {
   "cell_type": "markdown",
   "id": "e652d71f-9c54-4cf2-bb9f-d09cbee284f3",
   "metadata": {},
   "source": [
    "## 2.5.3. 分离计算\n",
    "<font size=4>\n",
    "    有时，我们希望将某些计算移动到记录的计算图之外。 例如，假设$y$是作为$\\mathrm{x}$的函数计算的，而$z$则是作为$y$和$\\mathrm{x}$的函数计算的。 想象一下，我们想计算$z$关于$\\mathrm{x}$的梯度，但由于某种原因，我们希望将$y$视为一个常数， 并且只考虑到$\\mathrm{x}$在$y$被计算后发挥的作用。\n",
    "\n",
    "在这里，我们可以分离$y$来返回一个新变量$u$，该变量与$y$具有相同的值， 但丢弃计算图中如何计算$y$的任何信息。 换句话说，梯度不会向后流经$u$到$x$。 因此，下面的反向传播函数计算$z=u*\\mathrm{x}$关于$\\mathrm{x}$的偏导数，同时将$u$作为常数处理， 而不是$z=\\mathrm{x}*\\mathrm{x}*\\mathrm{x}$关于$\\mathrm{x}$的偏导数。\n",
    "</font>"
   ]
  },
  {
   "cell_type": "code",
   "execution_count": 62,
   "id": "44c35a0d-f772-4a77-845a-7abe75f6e298",
   "metadata": {},
   "outputs": [
    {
     "data": {
      "text/plain": [
       "tensor([0., 0., 0., 0.])"
      ]
     },
     "execution_count": 62,
     "metadata": {},
     "output_type": "execute_result"
    },
    {
     "data": {
      "text/plain": [
       "tensor([0., 1., 2., 3.], requires_grad=True)"
      ]
     },
     "execution_count": 62,
     "metadata": {},
     "output_type": "execute_result"
    },
    {
     "data": {
      "text/plain": [
       "tensor([0., 1., 4., 9.])"
      ]
     },
     "execution_count": 62,
     "metadata": {},
     "output_type": "execute_result"
    },
    {
     "data": {
      "text/plain": [
       "tensor([True, True, True, True])"
      ]
     },
     "execution_count": 62,
     "metadata": {},
     "output_type": "execute_result"
    }
   ],
   "source": [
    "x.grad.zero_()  # 清除x之前的梯度\n",
    "x  # 查看x\n",
    "y = x * x   # 定义y\n",
    "u = y.detach()  # detach()返回一个新的tensor，从当前计算图中分离下来。但是仍指向原变量的存放位置，不同之处只是requirse_grad为false.得到的这个tensir永远不需要计算器梯度，不具有grad.\n",
    "z = u * x  # 此时u没有grad所以u被当做常数\n",
    "z.sum().backward()\n",
    "x.grad   # 由于u被看作常数所以z对x的梯度就为u\n",
    "u == x.grad"
   ]
  },
  {
   "cell_type": "markdown",
   "id": "92985ad7-bfd0-4339-8d14-3346494e09ca",
   "metadata": {},
   "source": [
    "<font size=4>\n",
    "由于记录了$y$的计算结果，我们可以随后在$y$上调用反向传播， 得到$y=\\mathrm{x}*\\mathrm{x}$关于的$\\mathrm{x}$的导数，即$2*\\mathrm{x}$</font>"
   ]
  },
  {
   "cell_type": "code",
   "execution_count": 63,
   "id": "73e091aa-96b0-4331-bca6-69206f9920cd",
   "metadata": {},
   "outputs": [
    {
     "data": {
      "text/plain": [
       "tensor([0., 0., 0., 0.])"
      ]
     },
     "execution_count": 63,
     "metadata": {},
     "output_type": "execute_result"
    },
    {
     "data": {
      "text/plain": [
       "tensor([0., 1., 2., 3.], requires_grad=True)"
      ]
     },
     "execution_count": 63,
     "metadata": {},
     "output_type": "execute_result"
    },
    {
     "data": {
      "text/plain": [
       "tensor([0., 2., 4., 6.])"
      ]
     },
     "execution_count": 63,
     "metadata": {},
     "output_type": "execute_result"
    },
    {
     "data": {
      "text/plain": [
       "tensor([True, True, True, True])"
      ]
     },
     "execution_count": 63,
     "metadata": {},
     "output_type": "execute_result"
    }
   ],
   "source": [
    "x.grad.zero_()  # 清除x之前的梯度\n",
    "x\n",
    "y.sum().backward()\n",
    "x.grad\n",
    "x.grad == 2*x"
   ]
  },
  {
   "cell_type": "markdown",
   "id": "9ee3a838-4fe0-4fd7-ba70-434246fc7ce0",
   "metadata": {},
   "source": [
    "## 2.5.4. Python控制流的梯度计算\n",
    "<font size=4>\n",
    "    使用自动微分的一个好处是： 即使构建函数的计算图需要通过Python控制流（例如，条件、循环或任意函数调用），我们仍然可以计算得到的变量的梯度。 在下面的代码中，while循环的迭代次数和if语句的结果都取决于输入a的值。\n",
    "</font>"
   ]
  },
  {
   "cell_type": "code",
   "execution_count": 66,
   "id": "0a316545-84fd-44c6-b72c-9f6c42271d7d",
   "metadata": {},
   "outputs": [],
   "source": [
    "def f(a):\n",
    "    b = a * 2\n",
    "    while b.norm() < 1000:\n",
    "        b = b * 2\n",
    "    if b.sum() > 0:\n",
    "        c = b\n",
    "    else:\n",
    "        c = 100 * b\n",
    "    return c"
   ]
  },
  {
   "cell_type": "markdown",
   "id": "a65db77f-ddc5-4161-a1ca-4f3645f64b57",
   "metadata": {},
   "source": [
    "<font size=4>\n",
    "    让我们计算梯度。\n",
    "</font>"
   ]
  },
  {
   "cell_type": "code",
   "execution_count": 67,
   "id": "2bc51e5b-3e88-4fdf-bc4c-17c49bf0d8a0",
   "metadata": {},
   "outputs": [],
   "source": [
    "a = torch.randn(size=(), requires_grad=True)\n",
    "d = f(a)\n",
    "d.backward()"
   ]
  },
  {
   "cell_type": "markdown",
   "id": "46c9d926-6739-41a2-98c8-94288a262cc2",
   "metadata": {},
   "source": [
    "<font size=4>\n",
    "我们现在可以分析上面定义的$f$函数。 请注意，它在其输入$a$中是分段线性的。 换言之，对于任何$a$，存在某个常量标量$k$，使得$f(a)=k*a$，其中$k$的值取决于输入$a$。 因此，我们可以用$d/a$验证梯度是否正确。\n",
    "</font>"
   ]
  },
  {
   "cell_type": "code",
   "execution_count": 68,
   "id": "59126b8c-6495-486c-b341-89b808935071",
   "metadata": {},
   "outputs": [
    {
     "data": {
      "text/plain": [
       "tensor(True)"
      ]
     },
     "execution_count": 68,
     "metadata": {},
     "output_type": "execute_result"
    }
   ],
   "source": [
    "a.grad == d / a"
   ]
  },
  {
   "cell_type": "markdown",
   "id": "fb81f66a-3f42-493b-826d-5168fe18a4b0",
   "metadata": {},
   "source": [
    "## 2.5.5. 小结\n",
    "<font size=4>\n",
    "深度学习框架可以自动计算导数：我们首先将梯度附加到想要对其计算偏导数的变量上。然后我们记录目标值的计算，执行它的反向传播函数，并访问得到的梯度。</font>"
   ]
  },
  {
   "cell_type": "markdown",
   "id": "a6eda791-0fe3-407b-ab37-a85a6b1dc101",
   "metadata": {},
   "source": [
    "<font size=4>第五问里面，对f(x)进行求导，也就是非标量求导。是不是要计算sum()然后再backward,这里有点不太理解，非标量调用backward()函数要输入的gradient参数的具体意义。请问应该怎么理解？\n",
    "<br><br>\n",
    "如果y是矩阵，要先把y转化为标量，再求导。转化为方法是：backward()函数传入一个矩阵m，计算y*m（y的各元素与m的元素对应相乘，不是矩阵相乘），再求矩阵元素之和，这样得到一个标量（实际就是y中的元素加权求和），然后才能求导</font>"
   ]
  }
 ],
 "metadata": {
  "kernelspec": {
   "display_name": "study-ml(python3.7)",
   "language": "python",
   "name": "study-ml"
  },
  "language_info": {
   "codemirror_mode": {
    "name": "ipython",
    "version": 3
   },
   "file_extension": ".py",
   "mimetype": "text/x-python",
   "name": "python",
   "nbconvert_exporter": "python",
   "pygments_lexer": "ipython3",
   "version": "3.7.10"
  }
 },
 "nbformat": 4,
 "nbformat_minor": 5
}
