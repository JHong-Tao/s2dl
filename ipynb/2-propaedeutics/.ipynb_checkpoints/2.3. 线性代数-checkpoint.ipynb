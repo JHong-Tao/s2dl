{
 "cells": [
  {
   "cell_type": "markdown",
   "id": "8cbf320c-e852-435a-af8e-e14b15a2025f",
   "metadata": {},
   "source": [
    "# 2.3. 线性代数\n",
    "<font size=4>\n",
    "在你已经可以存储和操作数据后，让我们简要地回顾一下部分基本线性代数内容。 这些内容能够帮助你了解和实现本书中介绍的大多数模型。 本节我们将介绍线性代数中的基本数学对象、算术和运算，并用数学符号和相应的代码实现来表示它们。\n",
    "    </font>\n",
    "    \n"
   ]
  },
  {
   "cell_type": "markdown",
   "id": "842c502f-7404-4393-89c7-4b81131f7669",
   "metadata": {},
   "source": [
    "## 2.3.1. 标量\n",
    "\n",
    "<font size=4>\n",
    "    如果你曾经在餐厅支付餐费，那么你已经知道一些基本的线性代数，比如在数字间相加或相乘。 例如，北京的温度为$52^{。}F$\n",
    "（除了摄氏度外，另一种温度计量单位）。 严格来说，我们称仅包含一个数值的叫标量（scalar）。 如果要将此华氏度值转换为更常用的摄氏度， 则可以计算表达式$c=\\frac{5}{9}(f-32)$\n",
    " \n",
    "，并将$f$赋为52。 在此等式中，每一项（5、9和9）都是标量值。 符号和称为变量（variable），它们表示未知的标量值。\n",
    "\n",
    "在本书中，我们采用了数学表示法，其中标量变量由普通小写字母表示（例如，$x、y$和$z$）。 我们用$\\mathbb{R} $表示所有（连续）实数标量的空间。 我们之后将严格定义空间（space）是什么， 但现在你只要记住表达式是表示是一个实值标量的正式形式。 符号$\\in $称为“属于”，它表示“是集合中的成员”。 我们可以用$x,y\\in \\left \\{ 0, 1 \\right \\}$来表明$x$和$y$是值只能为$0$或$1$的数字。\n",
    "\n",
    "标量由只有一个元素的张量表示。 在下面的代码中，我们实例化两个标量，并执行一些熟悉的算术运算，即加法、乘法、除法和指数。\n",
    "    </font>"
   ]
  },
  {
   "cell_type": "code",
   "execution_count": 60,
   "id": "304c464e-b513-4a91-b9fd-e2bb69f423ed",
   "metadata": {},
   "outputs": [
    {
     "data": {
      "text/plain": [
       "tensor(5.)"
      ]
     },
     "execution_count": 60,
     "metadata": {},
     "output_type": "execute_result"
    },
    {
     "data": {
      "text/plain": [
       "tensor(1.)"
      ]
     },
     "execution_count": 60,
     "metadata": {},
     "output_type": "execute_result"
    },
    {
     "data": {
      "text/plain": [
       "tensor(6.)"
      ]
     },
     "execution_count": 60,
     "metadata": {},
     "output_type": "execute_result"
    },
    {
     "data": {
      "text/plain": [
       "tensor(1.5000)"
      ]
     },
     "execution_count": 60,
     "metadata": {},
     "output_type": "execute_result"
    }
   ],
   "source": [
    "import torch\n",
    "from IPython.core.interactiveshell import InteractiveShell\n",
    "InteractiveShell.ast_node_interactivity = \"all\"\n",
    "\n",
    "x = torch.tensor(3.0)\n",
    "y = torch.tensor(2.0)\n",
    "x+y\n",
    "x-y\n",
    "x*y\n",
    "x/y"
   ]
  },
  {
   "cell_type": "markdown",
   "id": "0105d03e-b3a8-45c1-9d6a-30e0095ae012",
   "metadata": {},
   "source": [
    "## 2.3.2. 向量\n",
    "<font size=4>\n",
    "    你可以将向量视为标量值组成的列表。 我们将这些标量值称为向量的元素（element）或分量（component）。 当向量表示数据集中的样本时，它们的值具有一定的现实意义。 例如，如果我们正在训练一个模型来预测贷款违约风险，我们可能会将每个申请人与一个向量相关联， 其分量与其收入、工作年限、过往违约次数和其他因素相对应。 如果我们正在研究医院患者可能面临的心脏病发作风险，我们可能会用一个向量来表示每个患者， 其分量为最近的生命体征、胆固醇水平、每天运动时间等。 在数学表示法中，我们通常将向量记为粗体、小写的符号。\n",
    "<br><br>\n",
    "    我们通过一维张量处理向量。一般来说，张量可以具有任意长度，取决于机器的内存限制。\n",
    "</font>\n",
    "    "
   ]
  },
  {
   "cell_type": "code",
   "execution_count": 61,
   "id": "5763cedf-17f8-451c-a145-6fe61eaab6aa",
   "metadata": {},
   "outputs": [
    {
     "data": {
      "text/plain": [
       "tensor([0, 1, 2, 3])"
      ]
     },
     "execution_count": 61,
     "metadata": {},
     "output_type": "execute_result"
    }
   ],
   "source": [
    "x = torch.arange(4)\n",
    "x"
   ]
  },
  {
   "cell_type": "markdown",
   "id": "10c0eb59-1d34-4cc7-863c-e1ba776faa80",
   "metadata": {},
   "source": [
    "<font size=4>\n",
    "    我们可以使用下标来引用向量的任一元素。 例如，我们可以通过$x_{i}$\n",
    "来引用第$i$个元素。 注意，$x_{i}$元素\n",
    "是一个标量，所以我们在引用它时不会加粗。 大量文献认为列向量是向量的默认方向，在本书中也是如此。 在数学中，向量$\\mathrm {x} $可以写为：\n",
    "$$\\mathrm{x}=\n",
    "\\begin{bmatrix}\n",
    " x_{1}\\\\\n",
    " x_{2}\\\\\n",
    " \\vdots \\\\\n",
    " x_{n}\n",
    "\\end{bmatrix}\n",
    "$$\n",
    "    其中$x_{1},\\dots,x_{n}$\n",
    "是向量的元素。在代码中，我们通过张量的索引来访问任一元素。\n",
    "    </font>\n",
    "    "
   ]
  },
  {
   "cell_type": "code",
   "execution_count": 62,
   "id": "4be2759f-f233-4e1e-ae86-d039638af42c",
   "metadata": {},
   "outputs": [
    {
     "data": {
      "text/plain": [
       "tensor(3)"
      ]
     },
     "execution_count": 62,
     "metadata": {},
     "output_type": "execute_result"
    }
   ],
   "source": [
    "x[3]"
   ]
  },
  {
   "cell_type": "markdown",
   "id": "1f141aa3-4e54-4951-909a-2c72cf6f6d41",
   "metadata": {},
   "source": [
    "## 2.3.2.1. 长度、维度和形状\n",
    "<font size=4>\n",
    "向量只是一个数字数组，就像每个数组都有一个长度一样，每个向量也是如此。 在数学表示法中，如果我们想说一个向量$\\mathrm x$由$n$个实值标量组成， 我们可以将其表示为$x\\in \\mathbb{R}^{n}$\n",
    "。 向量的长度通常称为向量的维度（dimension）\n",
    "    </font>"
   ]
  },
  {
   "cell_type": "code",
   "execution_count": 63,
   "id": "6099d520-7d4a-45ad-b498-9daa2b51470d",
   "metadata": {},
   "outputs": [
    {
     "data": {
      "text/plain": [
       "4"
      ]
     },
     "execution_count": 63,
     "metadata": {},
     "output_type": "execute_result"
    }
   ],
   "source": [
    "len(x)  # 获取向量x的长度"
   ]
  },
  {
   "cell_type": "markdown",
   "id": "6babc495-6e93-4fe9-8845-fdab4d36b544",
   "metadata": {},
   "source": [
    "<font size=4>\n",
    "请注意，维度（dimension）这个词在不同上下文时往往会有不同的含义，这经常会使人感到困惑。 为了清楚起见，我们在此明确一下： <font color=red>向量或轴的维度被用来表示向量或轴的长度，即向量或轴的元素数量。</font> 然而，<font color=blue>张量的维度用来表示张量具有的轴数。 在这个意义上，张量的某个轴的维数就是这个轴的长度。</font>\n",
    "</font>"
   ]
  },
  {
   "cell_type": "markdown",
   "id": "3ae8ce43-8449-4e87-89f9-e27aa3613fa6",
   "metadata": {},
   "source": [
    "## 2.3.3. 矩阵\n",
    "<font size=4>\n",
    "    正如向量将标量从零阶推广到一阶，矩阵将向量从一阶推广到二阶。 <font color=red>矩阵，我们通常用粗体、大写字母来表示 （例如，$\\mathrm{X}$、$\\mathrm{Y}$和$\\mathrm{Z}$）， 在代码中表示为具有两个轴的张量。</font>\n",
    "\n",
    "在数学表示法中，我们使用$\\mathrm{A}\\in \\mathbb{R}^{m\\times n}$\n",
    " 来表示矩阵，其由$m$行和$n$列的实值标量组成。 我们可以将任意矩阵\n",
    "视为一个表格， 其中每个元素$a_{ij}$\n",
    "属于第$i$行第$j$列：<br><br>\n",
    "    $$\n",
    "    \\mathrm{A}= \n",
    "\\begin{bmatrix}\n",
    "  a_{11} &a_{12}  &\\dots  &a_{1n} \\\\\n",
    "  a_{21} &a_{22}  &\\dots  &a_{2n}\\\\\n",
    "  \\vdots &\\vdots  &\\ddots   &\\vdots \\\\\n",
    "  a_{m1}& a_{m2}  &\\dots   &a_{mn}\n",
    "\\end{bmatrix}\n",
    "    $$<br><br>\n",
    "    对于任意$\\mathrm{A}\\in \\mathbb{R}^{m\\times n}$\n",
    "， 的形状是$(m,n)$或$m\\times n$。 当矩阵具有相同数量的行和列时，其形状将变为正方形； 因此，它被称为方阵（square matrix）。<br><br>\n",
    "    当调用函数来实例化张量时， 我们可以通过指定两个分量$m$和$n$来创建一个形状为$m\\times n$的矩阵\n",
    "    </font>"
   ]
  },
  {
   "cell_type": "code",
   "execution_count": 64,
   "id": "adbfda2b-4df3-4df2-b0b1-20835c3f6fa5",
   "metadata": {},
   "outputs": [
    {
     "data": {
      "text/plain": [
       "tensor([[ 0,  1,  2,  3],\n",
       "        [ 4,  5,  6,  7],\n",
       "        [ 8,  9, 10, 11],\n",
       "        [12, 13, 14, 15],\n",
       "        [16, 17, 18, 19]])"
      ]
     },
     "execution_count": 64,
     "metadata": {},
     "output_type": "execute_result"
    }
   ],
   "source": [
    "A = torch.arange(20).reshape(5, 4)  # 创建一个5行4列的矩阵，由于矩阵一般用大写字母表示，所以 以后变量为矩阵时变量名也就用大写字母了\n",
    "A"
   ]
  },
  {
   "cell_type": "markdown",
   "id": "1d59f0f0-8d45-4916-9a06-cb2612e0cfa6",
   "metadata": {},
   "source": [
    "<font size=4>\n",
    "    我们可以通过行索引$(i)$和列索引$(j)$来访问矩阵中的标量元素$a_{ij}$\n",
    "， 例如$[\\mathrm{A}]_{ij}$\n",
    "。 如果没有给出矩阵$\\mathrm{A}$的标量元素，如在 (2.3.2)那样， 我们可以简单地使用矩阵$\\mathrm{A}$的小写字母索引下标\n",
    " $a_{ij}$来引用$[\\mathrm{A}]_{ij}$\n",
    "。 为了表示起来简单，只有在必要时才会将逗号插入到单独的索引中， 例如\n",
    "$a_{2,3j}$和$[\\mathrm{A}]_{2i-1,3}$\n",
    "。<br><br>\n",
    "    当我们交换矩阵的行和列时，结果称为矩阵的转置（transpose）。 我们用$a^{\\mathrm{T}}$\n",
    "来表示矩阵的转置，如果$\\mathrm{B}=\\mathrm{A}^{\\mathrm{T}}$\n",
    "， 则对于任意$i$和$j$，都有$a_{ij}=b_{ji}$\n",
    "。 因此，在 (2.3.2)中的转置是一个形状为$m\\times n$的矩阵：<br><br>\n",
    "    $$\n",
    "\\mathrm{A}^{\\mathrm{T}}= \n",
    "\\begin{bmatrix}\n",
    "  a_{11} &a_{12}  &\\dots  &a_{1m} \\\\\n",
    "  a_{21} &a_{22}  &\\dots  &a_{2m}\\\\\n",
    "  \\vdots &\\vdots  &\\ddots   &\\vdots \\\\\n",
    "  a_{n1}& a_{n2}  &\\dots   &a_{nm}\n",
    "\\end{bmatrix}\n",
    "    $$<br><br>\n",
    "    现在我们在代码中访问矩阵的转置。\n",
    "    </font>"
   ]
  },
  {
   "cell_type": "code",
   "execution_count": 65,
   "id": "87674e8a-30b4-4e23-9375-3744a2be763c",
   "metadata": {},
   "outputs": [
    {
     "data": {
      "text/plain": [
       "tensor([[ 0,  4,  8, 12, 16],\n",
       "        [ 1,  5,  9, 13, 17],\n",
       "        [ 2,  6, 10, 14, 18],\n",
       "        [ 3,  7, 11, 15, 19]])"
      ]
     },
     "execution_count": 65,
     "metadata": {},
     "output_type": "execute_result"
    }
   ],
   "source": [
    "A.T  # 获取矩阵A的转置矩阵"
   ]
  },
  {
   "cell_type": "markdown",
   "id": "17298abd-6413-4b1e-a746-14961b7b97de",
   "metadata": {},
   "source": [
    "<font size=4>\n",
    "    作为方阵的一种特殊类型，对称矩阵（symmetric matrix）$\\mathrm{A}$等于其转置：$\\mathrm{A}=\\mathrm{A}^{\\mathrm{T}}$\n",
    "。 这里我们定义一个对称矩阵$\\mathrm{B}$：\n",
    "    </font>"
   ]
  },
  {
   "cell_type": "code",
   "execution_count": 66,
   "id": "fa2af0fe-e1f2-4100-9860-0e10e6ca844d",
   "metadata": {},
   "outputs": [
    {
     "data": {
      "text/plain": [
       "tensor([[1, 2, 3],\n",
       "        [2, 0, 4],\n",
       "        [3, 4, 5]])"
      ]
     },
     "execution_count": 66,
     "metadata": {},
     "output_type": "execute_result"
    }
   ],
   "source": [
    "B = torch.tensor([[1, 2, 3], [2, 0, 4], [3, 4, 5]])\n",
    "B"
   ]
  },
  {
   "cell_type": "markdown",
   "id": "adf2e4eb-7ba5-4679-8eb7-2002ddafe3d4",
   "metadata": {},
   "source": [
    "<font size=4>\n",
    "    现在我们将B与它的转置进行比较\n",
    "    </font>"
   ]
  },
  {
   "cell_type": "code",
   "execution_count": 67,
   "id": "e3699942-d7d2-44f0-b3d2-61f17453e1e2",
   "metadata": {},
   "outputs": [
    {
     "data": {
      "text/plain": [
       "tensor([[1, 2, 3],\n",
       "        [2, 0, 4],\n",
       "        [3, 4, 5]])"
      ]
     },
     "execution_count": 67,
     "metadata": {},
     "output_type": "execute_result"
    },
    {
     "data": {
      "text/plain": [
       "tensor([[True, True, True],\n",
       "        [True, True, True],\n",
       "        [True, True, True]])"
      ]
     },
     "execution_count": 67,
     "metadata": {},
     "output_type": "execute_result"
    }
   ],
   "source": [
    "B.T\n",
    "B == B.T"
   ]
  },
  {
   "cell_type": "markdown",
   "id": "d66458b8-568c-4051-b5a6-15dc57ff4ec7",
   "metadata": {},
   "source": [
    "<font size=4>\n",
    "矩阵是有用的数据结构：它们允许我们组织具有不同模式的数据。 例如，我们矩阵中的行可能对应于不同的房屋（数据样本），而列可能对应于不同的属性。 如果你曾经使用过电子表格软件或已阅读过 2.2节，这应该听起来很熟悉。 因此，<font color=red>尽管单个向量的默认方向是列向量，但在表示表格数据集的矩阵中， 将每个数据样本作为矩阵中的行向量更为常见。</font> 我们将在后面的章节中讲到这点，这种约定将支持常见的深度学习实践。 <font color=red>例如，沿着张量的最外轴，我们可以访问或遍历小批量的数据样本。</font>\n",
    "</font>"
   ]
  },
  {
   "cell_type": "markdown",
   "id": "7f536d56-648f-4716-84c2-948fc1f8d322",
   "metadata": {},
   "source": [
    "## 2.3.4. 张量\n",
    "<font size=4>\n",
    "    就像向量是标量的推广，矩阵是向量的推广一样，我们可以构建具有更多轴的数据结构。 张量（本小节中的“张量”指代数对象）为我们提供了描述具有任意数量轴的$n$维数组的通用方法。 例如，向量是一阶张量，矩阵是二阶张量。 张量用特殊字体的大写字母表示（例如，$\\mathrm{X}$、$\\mathrm{Y}$和$\\mathrm{Z}$）， 它们的索引机制（例如$x_{ijk}$\n",
    "和$[\\mathrm{A}]_{1,2I-1,3}$\n",
    "）与矩阵类似。<br><br>\n",
    "    \n",
    "\n",
    "当我们开始处理图像时，张量将变得更加重要，图像以维数组形式出现， 其中3个轴对应于高度、宽度，以及一个通道（channel）轴， 用于表示颜色通道（红色、绿色和蓝色）。 现在，我们先将高阶张量暂放一边，而是专注学习其基础知识。\n",
    "    </font>"
   ]
  },
  {
   "cell_type": "code",
   "execution_count": 68,
   "id": "ce091724-f2a7-45f2-95a5-1095b173d432",
   "metadata": {},
   "outputs": [
    {
     "data": {
      "text/plain": [
       "tensor([[[ 0,  1,  2,  3],\n",
       "         [ 4,  5,  6,  7],\n",
       "         [ 8,  9, 10, 11]],\n",
       "\n",
       "        [[12, 13, 14, 15],\n",
       "         [16, 17, 18, 19],\n",
       "         [20, 21, 22, 23]]])"
      ]
     },
     "execution_count": 68,
     "metadata": {},
     "output_type": "execute_result"
    }
   ],
   "source": [
    "X = torch.arange(24).reshape(2, 3, 4)\n",
    "X"
   ]
  },
  {
   "cell_type": "markdown",
   "id": "4a640305-1811-490b-8a60-2a4082405cd9",
   "metadata": {},
   "source": [
    "## 2.3.5. 张量算法的基本性质\n",
    "<font size=4>\n",
    "标量、向量、矩阵和任意数量轴的张量（本小节中的“张量”指代数对象）有一些实用的属性。 例如，你可能已经从按元素操作的定义中注意到，任何按元素的一元运算都不会改变其操作数的形状。 同样，给定具有相同形状的任意两个张量，任何按元素二元运算的结果都将是相同形状的张量。 例如，将两个相同形状的矩阵相加，会在这两个矩阵上执行元素加法。\n",
    "    </font>"
   ]
  },
  {
   "cell_type": "code",
   "execution_count": 77,
   "id": "be77d491-44d1-4a2e-9eea-14abc9808734",
   "metadata": {},
   "outputs": [
    {
     "data": {
      "text/plain": [
       "tensor([[ 0.,  1.,  2.,  3.],\n",
       "        [ 4.,  5.,  6.,  7.],\n",
       "        [ 8.,  9., 10., 11.],\n",
       "        [12., 13., 14., 15.],\n",
       "        [16., 17., 18., 19.]])"
      ]
     },
     "execution_count": 77,
     "metadata": {},
     "output_type": "execute_result"
    },
    {
     "data": {
      "text/plain": [
       "tensor([[ 0.,  2.,  4.,  6.],\n",
       "        [ 8., 10., 12., 14.],\n",
       "        [16., 18., 20., 22.],\n",
       "        [24., 26., 28., 30.],\n",
       "        [32., 34., 36., 38.]])"
      ]
     },
     "execution_count": 77,
     "metadata": {},
     "output_type": "execute_result"
    }
   ],
   "source": [
    "A = torch.arange(20, dtype=torch.float32).reshape(5, 4)\n",
    "B = A.clone()  # 将A的数据拷贝一份给B，会开辟新的存储空间\n",
    "A\n",
    "A+B"
   ]
  },
  {
   "cell_type": "markdown",
   "id": "4d0fe22f-ce46-4293-b51d-1a3cc920a32b",
   "metadata": {},
   "source": [
    "<font size=4>\n",
    "    具体而言，两个矩阵的按元素乘法称为Hadamard积（Hadamard product）（数学符号$\\odot$）。 对于矩阵$B \\in \\mathbb{R}^{m\\times n}$\n",
    "， 其中第$i$行和$j$第列的元素是$b_{ij}$\n",
    "。 矩阵$\\mathrm{A}$（在 (2.3.2)中定义）和$\\mathrm{B}$的Hadamard积为：<br>\n",
    "    $$\n",
    "    \\mathrm{A}\n",
    "\\odot\n",
    "\\mathrm{B}\n",
    "= \n",
    "\\begin{bmatrix}\n",
    "  a_{11}b_{11} &a_{12}b_{12}  &\\dots  &a_{1n}b_{1n} \\\\\n",
    "  a_{21}b_{21} &a_{22}b_{22}  &\\dots  &a_{2n}b_{2n}\\\\\n",
    "  \\vdots &\\vdots  &\\ddots   &\\vdots \\\\\n",
    "  a_{m1}b_{m1} &a_{m2}b_{m2}  &\\dots   &a_{mn}b_{mn}\n",
    "\\end{bmatrix}\n",
    "    $$<br><br>\n",
    "    </font>"
   ]
  },
  {
   "cell_type": "code",
   "execution_count": 70,
   "id": "823d817c-3e4c-4740-bbfe-009a747cc71c",
   "metadata": {},
   "outputs": [
    {
     "data": {
      "text/plain": [
       "tensor([[  0,   1,   4,   9],\n",
       "        [ 16,  25,  36,  49],\n",
       "        [ 64,  81, 100, 121],\n",
       "        [144, 169, 196, 225],\n",
       "        [256, 289, 324, 361]])"
      ]
     },
     "execution_count": 70,
     "metadata": {},
     "output_type": "execute_result"
    }
   ],
   "source": [
    "AB = A*B\n",
    "AB"
   ]
  },
  {
   "cell_type": "markdown",
   "id": "4d8af680-cada-4617-aa18-91bffe82d4c0",
   "metadata": {},
   "source": [
    "- <font size=4>\n",
    "    将张量乘以或加上一个标量不会改变张量的形状，其中张量的每个元素都将与标量相加或相乘。\n",
    "    </font>"
   ]
  },
  {
   "cell_type": "code",
   "execution_count": 71,
   "id": "db6fedf7-f781-4146-bab2-15e9ac1fe6fe",
   "metadata": {},
   "outputs": [
    {
     "data": {
      "text/plain": [
       "tensor([[[ 2,  3,  4,  5],\n",
       "         [ 6,  7,  8,  9],\n",
       "         [10, 11, 12, 13]],\n",
       "\n",
       "        [[14, 15, 16, 17],\n",
       "         [18, 19, 20, 21],\n",
       "         [22, 23, 24, 25]]])"
      ]
     },
     "execution_count": 71,
     "metadata": {},
     "output_type": "execute_result"
    },
    {
     "data": {
      "text/plain": [
       "tensor([[[ 0,  2,  4,  6],\n",
       "         [ 8, 10, 12, 14],\n",
       "         [16, 18, 20, 22]],\n",
       "\n",
       "        [[24, 26, 28, 30],\n",
       "         [32, 34, 36, 38],\n",
       "         [40, 42, 44, 46]]])"
      ]
     },
     "execution_count": 71,
     "metadata": {},
     "output_type": "execute_result"
    }
   ],
   "source": [
    "a = 2\n",
    "X = torch.arange(24).reshape(2, 3, 4)\n",
    "a+X\n",
    "a*X"
   ]
  },
  {
   "cell_type": "markdown",
   "id": "ff44e96d-db51-405d-9197-12a7fffd3b36",
   "metadata": {},
   "source": [
    "## 2.3.6. 降维\n",
    "<font size=4>\n",
    "    我们可以对任意张量进行的一个有用的操作是计算其元素的和。 在数学表示法中，我们使用符号$\\sum$表示求和。 为了表示长度为$d$的向量中元素的总和，可以记为$\\sum_{i=1}^{d}x_{i}$\n",
    "。 在代码中，我们可以调用计算求和的函数：\n",
    "    </font>"
   ]
  },
  {
   "cell_type": "code",
   "execution_count": 72,
   "id": "dc789035-4dd3-4175-b861-6b5b9b9999ff",
   "metadata": {},
   "outputs": [
    {
     "data": {
      "text/plain": [
       "tensor([0., 1., 2., 3.])"
      ]
     },
     "execution_count": 72,
     "metadata": {},
     "output_type": "execute_result"
    },
    {
     "data": {
      "text/plain": [
       "tensor(6.)"
      ]
     },
     "execution_count": 72,
     "metadata": {},
     "output_type": "execute_result"
    }
   ],
   "source": [
    "x = torch.arange(4, dtype=torch.float32)\n",
    "x\n",
    "x.sum()"
   ]
  },
  {
   "cell_type": "markdown",
   "id": "6ed28921-962d-4979-ab7f-dd3066d85a06",
   "metadata": {},
   "source": [
    "<font size=4>\n",
    "    默认情况下，调用求和函数会沿所有的轴降低张量的维度，使它变为一个标量。 我们还可以指定张量沿哪一个轴来通过求和降低维度。 以矩阵为例，为了通过求和所有行的元素来降维（轴0），我们可以在调用函数时指定axis=0。 由于输入矩阵沿0轴降维以生成输出向量，因此输入轴0的维数在输出形状中消失。<br><br>\n",
    "    <font color=red>\n",
    "        压缩到某一个轴上，那么就是把比该轴更内部的数据就看成一个整体，比如一个矩阵的形状是（5, 2, 2）压缩到axis=0上，那么就是把$2\\times 2$的小矩阵看成一个整体，把5个小矩阵对应位置的元素压缩到一起。\n",
    "    </font>\n",
    "    </font>"
   ]
  },
  {
   "cell_type": "code",
   "execution_count": 73,
   "id": "e6060cd5-a425-49ff-af8b-b94b2149e749",
   "metadata": {},
   "outputs": [
    {
     "data": {
      "text/plain": [
       "tensor([[ 0,  1,  2,  3],\n",
       "        [ 4,  5,  6,  7],\n",
       "        [ 8,  9, 10, 11],\n",
       "        [12, 13, 14, 15],\n",
       "        [16, 17, 18, 19]])"
      ]
     },
     "execution_count": 73,
     "metadata": {},
     "output_type": "execute_result"
    },
    {
     "data": {
      "text/plain": [
       "tensor([40, 45, 50, 55])"
      ]
     },
     "execution_count": 73,
     "metadata": {},
     "output_type": "execute_result"
    },
    {
     "data": {
      "text/plain": [
       "torch.Size([4])"
      ]
     },
     "execution_count": 73,
     "metadata": {},
     "output_type": "execute_result"
    },
    {
     "data": {
      "text/plain": [
       "tensor([[[ 0,  1],\n",
       "         [ 2,  3]],\n",
       "\n",
       "        [[ 4,  5],\n",
       "         [ 6,  7]],\n",
       "\n",
       "        [[ 8,  9],\n",
       "         [10, 11]],\n",
       "\n",
       "        [[12, 13],\n",
       "         [14, 15]],\n",
       "\n",
       "        [[16, 17],\n",
       "         [18, 19]]])"
      ]
     },
     "execution_count": 73,
     "metadata": {},
     "output_type": "execute_result"
    },
    {
     "data": {
      "text/plain": [
       "tensor([[40, 45],\n",
       "        [50, 55]])"
      ]
     },
     "execution_count": 73,
     "metadata": {},
     "output_type": "execute_result"
    }
   ],
   "source": [
    "A\n",
    "A_sum_axis0 = A.sum(axis=0)  # 沿着axis=0的轴压缩，也就是压缩到axis=0的轴，此时axis=0代表的是横轴，也就是把数据压缩到横轴上\n",
    "A_sum_axis0\n",
    "A_sum_axis0.shape\n",
    "\n",
    "B = A.reshape(5, 2, 2)  # 改变A的形状为1行5列个2x2的小矩阵,在pytorch中当tensor的维度为奇数时优先排成一行\n",
    "B\n",
    "B.sum(axis=0)"
   ]
  },
  {
   "cell_type": "markdown",
   "id": "937646f6-7287-45d9-9b69-0fca45ca5a13",
   "metadata": {},
   "source": [
    "- <font size=4>\n",
    "    指定axis=1将通过汇总所有列的元素降维（轴1）。因此，输入轴1的维数在输出形状中消失。\n",
    "    </font>  "
   ]
  },
  {
   "cell_type": "code",
   "execution_count": 74,
   "id": "6379911a-b4b6-4449-b130-a91e745e63a0",
   "metadata": {},
   "outputs": [
    {
     "data": {
      "text/plain": [
       "tensor([[ 0,  1,  2,  3],\n",
       "        [ 4,  5,  6,  7],\n",
       "        [ 8,  9, 10, 11],\n",
       "        [12, 13, 14, 15],\n",
       "        [16, 17, 18, 19]])"
      ]
     },
     "execution_count": 74,
     "metadata": {},
     "output_type": "execute_result"
    },
    {
     "data": {
      "text/plain": [
       "tensor([ 6, 22, 38, 54, 70])"
      ]
     },
     "execution_count": 74,
     "metadata": {},
     "output_type": "execute_result"
    },
    {
     "data": {
      "text/plain": [
       "torch.Size([5])"
      ]
     },
     "execution_count": 74,
     "metadata": {},
     "output_type": "execute_result"
    },
    {
     "data": {
      "text/plain": [
       "tensor([[[ 0,  1],\n",
       "         [ 2,  3]],\n",
       "\n",
       "        [[ 4,  5],\n",
       "         [ 6,  7]],\n",
       "\n",
       "        [[ 8,  9],\n",
       "         [10, 11]],\n",
       "\n",
       "        [[12, 13],\n",
       "         [14, 15]],\n",
       "\n",
       "        [[16, 17],\n",
       "         [18, 19]]])"
      ]
     },
     "execution_count": 74,
     "metadata": {},
     "output_type": "execute_result"
    },
    {
     "data": {
      "text/plain": [
       "tensor([[ 2,  4],\n",
       "        [10, 12],\n",
       "        [18, 20],\n",
       "        [26, 28],\n",
       "        [34, 36]])"
      ]
     },
     "execution_count": 74,
     "metadata": {},
     "output_type": "execute_result"
    },
    {
     "data": {
      "text/plain": [
       "tensor([[ 1,  5],\n",
       "        [ 9, 13],\n",
       "        [17, 21],\n",
       "        [25, 29],\n",
       "        [33, 37]])"
      ]
     },
     "execution_count": 74,
     "metadata": {},
     "output_type": "execute_result"
    }
   ],
   "source": [
    "A\n",
    "A_sum_axis1 = A.sum(axis=1)   #将矩阵数据压缩到axis=1的轴上，也就是压缩到竖轴上\n",
    "A_sum_axis1\n",
    "A_sum_axis1.shape  # 沿着轴axis=1压缩，也就是压缩到竖轴上，所以只剩下行了\n",
    "\n",
    "C = A.reshape(5, 2, 2)  # 改变A的形状\n",
    "C\n",
    "C.sum(axis=1)  # 压缩到axis=1的轴上，也就是把小矩阵压缩到小矩阵的横轴上 2=0+2，4=1+3\n",
    "\n",
    "C.sum(axis=2)  # 压缩到axis=2的轴上，也就是把小矩阵压缩到小矩阵的竖轴上 1=0+1，5=2+3"
   ]
  },
  {
   "cell_type": "markdown",
   "id": "c7b6116c-dfe4-440a-b203-02f2d6de090a",
   "metadata": {},
   "source": [
    "- <font size=4>\n",
    "    沿着行和列对矩阵求和，等价于对矩阵的所有元素进行求和。\n",
    "    </font>"
   ]
  },
  {
   "cell_type": "code",
   "execution_count": 75,
   "id": "94cf3b06-63c5-4252-8c5c-bcbc751367d9",
   "metadata": {},
   "outputs": [
    {
     "data": {
      "text/plain": [
       "tensor(190)"
      ]
     },
     "execution_count": 75,
     "metadata": {},
     "output_type": "execute_result"
    }
   ],
   "source": [
    "A.sum(axis=[0, 1])  # 沿着所有的行和列压缩等于对所有元素累加求和"
   ]
  },
  {
   "cell_type": "markdown",
   "id": "daa9e077-299b-4269-b9a6-8093147de955",
   "metadata": {},
   "source": [
    "<font size=4>\n",
    "    一个与求和相关的量是平均值（mean或average）。 我们通过将总和除以元素总数来计算平均值。 在代码中，我们可以调用函数来计算任意形状张量的平均值。\n",
    "    </font>"
   ]
  },
  {
   "cell_type": "code",
   "execution_count": 80,
   "id": "51d977cb-ff5f-431b-9581-e24a40b631f8",
   "metadata": {},
   "outputs": [
    {
     "data": {
      "text/plain": [
       "tensor(9.5000)"
      ]
     },
     "execution_count": 80,
     "metadata": {},
     "output_type": "execute_result"
    },
    {
     "data": {
      "text/plain": [
       "tensor(9.5000)"
      ]
     },
     "execution_count": 80,
     "metadata": {},
     "output_type": "execute_result"
    }
   ],
   "source": [
    "A.mean()  # 求tensorA中的所有元素的均值，注意mean()函数要求A中的元素的数据类型必须为浮点型\n",
    "A.sum() / A.numel()  # 先求和在除以元素的总数量"
   ]
  },
  {
   "cell_type": "markdown",
   "id": "8f82ebc8-f21d-4476-8dbb-a0a0a2e89351",
   "metadata": {},
   "source": [
    "- <font size=4>\n",
    "    同样，计算平均值的函数也可以沿指定轴降低张量的维度。\n",
    "    </font>"
   ]
  },
  {
   "cell_type": "code",
   "execution_count": 87,
   "id": "b6bbdef5-ac9d-4528-b4b9-0a618ca7fce8",
   "metadata": {},
   "outputs": [
    {
     "data": {
      "text/plain": [
       "tensor([[ 0.,  1.,  2.,  3.],\n",
       "        [ 4.,  5.,  6.,  7.],\n",
       "        [ 8.,  9., 10., 11.],\n",
       "        [12., 13., 14., 15.],\n",
       "        [16., 17., 18., 19.]])"
      ]
     },
     "execution_count": 87,
     "metadata": {},
     "output_type": "execute_result"
    },
    {
     "data": {
      "text/plain": [
       "tensor([ 8.,  9., 10., 11.])"
      ]
     },
     "execution_count": 87,
     "metadata": {},
     "output_type": "execute_result"
    },
    {
     "data": {
      "text/plain": [
       "tensor([ 8.,  9., 10., 11.])"
      ]
     },
     "execution_count": 87,
     "metadata": {},
     "output_type": "execute_result"
    }
   ],
   "source": [
    "A\n",
    "A.mean(axis=0)   # 先压缩到横轴，在求平均\n",
    "A.sum(axis=0) / A.shape[0]  # 先压缩到横轴，在除以行的数量，比如8 = 40/5"
   ]
  },
  {
   "cell_type": "markdown",
   "id": "1eac932c-ac38-47b4-a814-707b8e028f4d",
   "metadata": {},
   "source": [
    "## 2.3.6.1. 非降维求和\n",
    "<font size=4>\n",
    "    但是，有时在调用函数来计算总和或均值时保持轴数不变会很有用。\n",
    "    </font>"
   ]
  },
  {
   "cell_type": "code",
   "execution_count": 95,
   "id": "9faa8db9-1730-4f2c-ab28-4ddcac463780",
   "metadata": {},
   "outputs": [
    {
     "data": {
      "text/plain": [
       "tensor([[ 0.,  1.,  2.,  3.],\n",
       "        [ 4.,  5.,  6.,  7.],\n",
       "        [ 8.,  9., 10., 11.],\n",
       "        [12., 13., 14., 15.],\n",
       "        [16., 17., 18., 19.]])"
      ]
     },
     "execution_count": 95,
     "metadata": {},
     "output_type": "execute_result"
    },
    {
     "data": {
      "text/plain": [
       "tensor([ 6., 22., 38., 54., 70.])"
      ]
     },
     "execution_count": 95,
     "metadata": {},
     "output_type": "execute_result"
    },
    {
     "data": {
      "text/plain": [
       "torch.Size([5])"
      ]
     },
     "execution_count": 95,
     "metadata": {},
     "output_type": "execute_result"
    },
    {
     "data": {
      "text/plain": [
       "tensor([[ 6.],\n",
       "        [22.],\n",
       "        [38.],\n",
       "        [54.],\n",
       "        [70.]])"
      ]
     },
     "execution_count": 95,
     "metadata": {},
     "output_type": "execute_result"
    },
    {
     "data": {
      "text/plain": [
       "torch.Size([5, 1])"
      ]
     },
     "execution_count": 95,
     "metadata": {},
     "output_type": "execute_result"
    }
   ],
   "source": [
    "A\n",
    "# 不保持压缩后的形状\n",
    "sum_A0 = A.sum(axis=1)\n",
    "sum_A0\n",
    "sum_A0.shape  # 把所有的列压缩成一列，并且去掉被压缩的维度，变成了一个只有原来列数的行向量了\n",
    "\n",
    "# 保持压缩后的维度轴不变，即不降维\n",
    "sum_A = A.sum(axis=1, keepdims=True)\n",
    "sum_A\n",
    "sum_A.shape  # 5行1列，只是把所有的列压缩成一列了"
   ]
  },
  {
   "cell_type": "markdown",
   "id": "370b283f-1e39-4867-adae-c5da9b7be991",
   "metadata": {},
   "source": [
    "<font size=4>\n",
    "    例如，由于sum_A在对每行进行求和后仍保持两个轴，我们可以通过广播将A除以sum_A。\n",
    "    </font>"
   ]
  },
  {
   "cell_type": "code",
   "execution_count": 97,
   "id": "3e8c8c6d-d5e8-48e1-942f-aa8860b81429",
   "metadata": {},
   "outputs": [
    {
     "data": {
      "text/plain": [
       "tensor([[0.0000, 0.1667, 0.3333, 0.5000],\n",
       "        [0.1818, 0.2273, 0.2727, 0.3182],\n",
       "        [0.2105, 0.2368, 0.2632, 0.2895],\n",
       "        [0.2222, 0.2407, 0.2593, 0.2778],\n",
       "        [0.2286, 0.2429, 0.2571, 0.2714]])"
      ]
     },
     "execution_count": 97,
     "metadata": {},
     "output_type": "execute_result"
    }
   ],
   "source": [
    "A / sum_A"
   ]
  },
  {
   "cell_type": "markdown",
   "id": "64f0e498-7bf3-4ca0-8c4d-49ac09032de1",
   "metadata": {},
   "source": [
    "<font size=4>\n",
    "    如果我们想沿某个轴计算A元素的累积总和， 比如axis=0（按行计算），我们可以调用cumsum函数。 此函数不会沿任何轴降低输入张量的维度。\n",
    "    </font>"
   ]
  },
  {
   "cell_type": "code",
   "execution_count": 100,
   "id": "b9ce9fa6-0271-452b-90b4-dd09d7962055",
   "metadata": {},
   "outputs": [
    {
     "data": {
      "text/plain": [
       "tensor([[ 0.,  1.,  2.,  3.],\n",
       "        [ 4.,  5.,  6.,  7.],\n",
       "        [ 8.,  9., 10., 11.],\n",
       "        [12., 13., 14., 15.],\n",
       "        [16., 17., 18., 19.]])"
      ]
     },
     "execution_count": 100,
     "metadata": {},
     "output_type": "execute_result"
    },
    {
     "data": {
      "text/plain": [
       "tensor([[ 0.,  1.,  2.,  3.],\n",
       "        [ 4.,  6.,  8., 10.],\n",
       "        [12., 15., 18., 21.],\n",
       "        [24., 28., 32., 36.],\n",
       "        [40., 45., 50., 55.]])"
      ]
     },
     "execution_count": 100,
     "metadata": {},
     "output_type": "execute_result"
    }
   ],
   "source": [
    "A\n",
    "A.cumsum(axis=0)  # 也就是每行产生的数是由每行到第一行的每列的数的累加和，比如a30=a00+a10+a20,即12=0+4+8"
   ]
  },
  {
   "cell_type": "markdown",
   "id": "a2165591-4ba6-4375-84a1-5f457132cf63",
   "metadata": {},
   "source": [
    "## 2.3.7. 向量点积（Dot Product）\n",
    "<font size=4>\n",
    "    我们已经学习了按元素操作、求和及平均值。 另一个最基本的操作之一是点积。 给定两个向量$\\textbf{x},\\textbf{y}\\in \\mathbb{R}^{d}$\n",
    "， 它们的点积（dot product）\n",
    " $\\textbf{x}^{\\mathrm{T}}\\textbf{y}$（或）$\\left \\langle \\textbf{x},\\textbf{y} \\right \\rangle $ 是相同位置的按元素乘积的和：$\\textbf{x}^{\\mathrm{T}}\\textbf{y}=\\sum_{i=1}^{d}{x_{i}y_{i}}$\n",
    "。\n",
    "    </font>"
   ]
  },
  {
   "cell_type": "code",
   "execution_count": 105,
   "id": "5fa5b9f9-ddaf-491a-b49c-4521297c134c",
   "metadata": {},
   "outputs": [
    {
     "data": {
      "text/plain": [
       "tensor([0., 1., 2., 3.])"
      ]
     },
     "execution_count": 105,
     "metadata": {},
     "output_type": "execute_result"
    },
    {
     "data": {
      "text/plain": [
       "tensor([0., 1., 2., 3.])"
      ]
     },
     "execution_count": 105,
     "metadata": {},
     "output_type": "execute_result"
    },
    {
     "data": {
      "text/plain": [
       "tensor(14.)"
      ]
     },
     "execution_count": 105,
     "metadata": {},
     "output_type": "execute_result"
    }
   ],
   "source": [
    "x\n",
    "y = torch.arange(4, dtype=torch.float32)\n",
    "y\n",
    "\n",
    "x.dot(y)  # x与y的点积 0*0+1*1+2*2+3*3"
   ]
  },
  {
   "cell_type": "markdown",
   "id": "2597e5e8-03da-45c0-adaf-9c92431b383f",
   "metadata": {},
   "source": [
    "- <font size=4 color=red>\n",
    "   注意，我们可以通过执行按元素乘法，然后进行求和来表示两个向量的点积：\n",
    "    </font>"
   ]
  },
  {
   "cell_type": "code",
   "execution_count": 108,
   "id": "d0f767fe-54b0-4bad-bf8d-d1e9bc31b45d",
   "metadata": {},
   "outputs": [
    {
     "data": {
      "text/plain": [
       "tensor(14.)"
      ]
     },
     "execution_count": 108,
     "metadata": {},
     "output_type": "execute_result"
    }
   ],
   "source": [
    "torch.sum(x*y)  # 先求哈达玛积在求和"
   ]
  },
  {
   "cell_type": "markdown",
   "id": "7018d427-2b7d-41d8-b469-c3a564dfa6cb",
   "metadata": {},
   "source": [
    "<font size=4>\n",
    "    点积在很多场合都很有用。 例如，给定一组由向量$\\mathrm{x} \\in \\mathbb{R}^{d}$\n",
    "表示的值， 和一组由$\\mathrm{w} \\in \\mathbb{R}^{d}$\n",
    "表示的权重。 $\\mathrm{x}$中的值根据权重$\\mathrm{w}$的加权和， 可以表示为点积$\\mathrm{x}^{\\mathrm{T}}\\mathrm{w}$\n",
    "。 当权重为非负数且和为1（即$\\sum_{i=1}^{d}w_{i}=1$\n",
    "）时， 点积表示加权平均（weighted average）。 将两个向量规范化得到单位长度后，点积表示它们夹角的余弦。 我们将在本节的后面正式介绍长度（length）的概念。\n",
    "    </font>"
   ]
  },
  {
   "cell_type": "markdown",
   "id": "4672e8c4-694b-4832-8bea-83f52658ef8c",
   "metadata": {},
   "source": [
    "## 2.3.8. 矩阵-向量积\n",
    "<font size=4>\n",
    "    现在我们知道如何计算点积，我们可以开始理解矩阵-向量积（matrix-vector product）。 回顾分别在 (2.3.2)和 (2.3.1)中定义的矩阵$\\mathrm{A} \\in \\mathbb{R}^{m \\times n}$\n",
    "和向量$\\mathrm{x} \\in \\mathbb{R}^{n}$\n",
    "。 让我们将矩阵$\\mathrm{A}$用它的行向量表示：<br><br>\n",
    "    $$\n",
    "    \\mathrm{A}=\n",
    "\\begin{bmatrix}\n",
    " a_{1}^{\\mathrm{T} }\\\\\n",
    " a_{2}^{\\mathrm{T} }\\\\\n",
    " \\vdots \\\\\n",
    " a_{m}^{\\mathrm{T} }\n",
    "\\end{bmatrix}\n",
    "    $$<br><br>\n",
    "    其中每个$a_{i}^{\\mathrm{T}} \\in \\mathbb{R}^{n}$\n",
    "都是行向量，表示矩阵的第$i$行。 矩阵向量积$\\mathrm{A}\\mathrm{x}$是一个长度为m的列向量， 其第$i$个元素是点积$a_{i}^{\\mathrm{T}}x_{i}$\n",
    "：<br><br>\n",
    "    $$\n",
    "    \\mathrm{A}\\mathrm{x}=\n",
    "\\begin{bmatrix}\n",
    " a_{1}^{\\mathrm{T} }\\\\\n",
    " a_{2}^{\\mathrm{T} }\\\\\n",
    " \\vdots \\\\\n",
    " a_{m}^{\\mathrm{T} }\n",
    "\\end{bmatrix}\n",
    "\\mathrm{x}=\n",
    "\\begin{bmatrix}\n",
    " a_{1}^{\\mathrm{T} }\\mathrm{x}\\\\\n",
    " a_{2}^{\\mathrm{T} }\\mathrm{x}\\\\\n",
    " \\vdots \\\\\n",
    " a_{m}^{\\mathrm{T} }\\mathrm{x}\n",
    "\\end{bmatrix} \n",
    "    $$\n",
    "    </font>"
   ]
  },
  {
   "cell_type": "markdown",
   "id": "c38ef050-d7a8-4f83-bec8-c45514213790",
   "metadata": {},
   "source": [
    "<font size=4>\n",
    "    我们可以把一个矩阵$\\mathrm{A} \\in \\mathbb{R}^{m \\times n}$\n",
    "乘法看作是一个从$\\mathbb{R}^{n}$\n",
    "到$\\mathbb{R}^{m}$\n",
    "向量的转换。 这些转换是非常有用的。例如，我们可以用方阵的乘法来表示旋转。 我们将在后续章节中讲到，我们也可以使用矩阵-向量积来描述在给定前一层的值时， 求解神经网络每一层所需的复杂计算。\n",
    "    <br><br>\n",
    "    <font color=red>\n",
    "    在代码中使用张量表示矩阵-向量积，我们使用与点积相同的mv函数。 当我们为矩阵A和向量x调用torch.mv(A, x)时，会执行矩阵-向量积。 注意，A的列维数（沿轴1的长度）必须与x的维数（其长度）相同。</font>\n",
    "    </font>"
   ]
  },
  {
   "cell_type": "code",
   "execution_count": 115,
   "id": "88dd7083-3db3-4439-b004-adc068da01e4",
   "metadata": {},
   "outputs": [
    {
     "data": {
      "text/plain": [
       "tensor([[ 0.,  1.,  2.,  3.],\n",
       "        [ 4.,  5.,  6.,  7.],\n",
       "        [ 8.,  9., 10., 11.],\n",
       "        [12., 13., 14., 15.],\n",
       "        [16., 17., 18., 19.]])"
      ]
     },
     "execution_count": 115,
     "metadata": {},
     "output_type": "execute_result"
    },
    {
     "data": {
      "text/plain": [
       "tensor([0., 1., 2., 3.])"
      ]
     },
     "execution_count": 115,
     "metadata": {},
     "output_type": "execute_result"
    },
    {
     "data": {
      "text/plain": [
       "(torch.Size([5, 4]), torch.Size([4]))"
      ]
     },
     "execution_count": 115,
     "metadata": {},
     "output_type": "execute_result"
    },
    {
     "data": {
      "text/plain": [
       "tensor([ 14.,  38.,  62.,  86., 110.])"
      ]
     },
     "execution_count": 115,
     "metadata": {},
     "output_type": "execute_result"
    }
   ],
   "source": [
    "A\n",
    "x\n",
    "A.shape, x.shape\n",
    "Ax = torch.mv(A, x)  # mv() 矩阵-向量积：计算矩阵A与向量x的矩阵-向量积\n",
    "Ax"
   ]
  },
  {
   "cell_type": "markdown",
   "id": "e1178c5d-ec41-4b2a-9813-1ec4a73c4d16",
   "metadata": {},
   "source": [
    "## 2.3.9. 矩阵-矩阵乘法\n",
    "<font size=4>\n",
    "    如果你已经掌握了<font color=red>点积和矩阵-向量积</font>的知识， 那么<font color=red>矩阵-矩阵乘法（matrix-matrix multiplication）</font>应该很简单。\n",
    "\n",
    "假设我们有两个矩阵$\\mathrm{A} \\in \\mathbb{R}^{n \\times k}$\n",
    "和$\\mathrm{B} \\in \\mathbb{R}^{k \\times m}$\n",
    "：<br><br>\n",
    "    $$\n",
    "    \\mathrm{A}= \n",
    "\\begin{bmatrix}\n",
    "  a_{11} &a_{12}  &\\dots  &a_{1k} \\\\\n",
    "  a_{21} &a_{22}  &\\dots  &a_{2k}\\\\\n",
    "  \\vdots &\\vdots  &\\ddots   &\\vdots \\\\\n",
    "  a_{n1}& a_{n2}  &\\dots   &a_{nk}\n",
    "\\end{bmatrix}\n",
    ",\n",
    "\\mathrm{B}= \n",
    "\\begin{bmatrix}\n",
    "  a_{11} &a_{12}  &\\dots  &a_{1m} \\\\\n",
    "  a_{21} &a_{22}  &\\dots  &a_{2m}\\\\\n",
    "  \\vdots &\\vdots  &\\ddots   &\\vdots \\\\\n",
    "  a_{k1}& a_{k2}  &\\dots   &a_{km}\n",
    "\\end{bmatrix}\n",
    "    $$<br><br>\n",
    "    用行向量$a_{i}^{\\mathrm{T}} \\in \\mathbb{R}^{k}$\n",
    "表示矩阵$\\mathrm{A}$的第行$i$，并让列向量$b_{j} \\in \\mathbb{R}^{k}$\n",
    "作为矩阵的第$j$列。要生成矩阵积$\\mathrm{C}=\\mathrm{A}\\mathrm{B}$，最简单的方法是考虑的矩阵$\\mathrm{A}$行向量和矩阵$\\mathrm{B}$的列向量:<br><br>\n",
    "    $$\n",
    "    \\mathrm{A}=\n",
    "\\begin{bmatrix}\n",
    " a_{1}^{\\mathrm{T} }\\\\\n",
    " a_{2}^{\\mathrm{T} }\\\\\n",
    " \\vdots \\\\\n",
    " a_{n}^{\\mathrm{T} }\n",
    "\\end{bmatrix} \n",
    ",\n",
    "\\mathrm{B}=\n",
    "\\begin{bmatrix}\n",
    " b_{1} &b_{2}  &\\dots   &b_{m}\n",
    "\\end{bmatrix}\n",
    "    $$<br><br>\n",
    "    当我们简单地将每个元素$c_{ij}$\n",
    "计算为点积$a_{i}^{\\mathrm{T}}b_{j}$\n",
    ":\n",
    "    </font>"
   ]
  },
  {
   "cell_type": "markdown",
   "id": "2327b30e-a501-4222-af52-8f897adb8563",
   "metadata": {},
   "source": [
    "$$\n",
    "\\mathrm{C}=\\mathrm{A}\\mathrm{B}=   \n",
    "\\begin{bmatrix}\n",
    " a_{1}^{\\mathrm{T} }\\\\\n",
    " a_{2}^{\\mathrm{T} }\\\\\n",
    " \\vdots \\\\\n",
    " a_{n}^{\\mathrm{T} }\n",
    "\\end{bmatrix} \n",
    "\\begin{bmatrix}\n",
    " b_{1} &b_{2}  &\\dots   &b_{m}\n",
    "\\end{bmatrix}=\n",
    "\\begin{bmatrix}\n",
    " a_{1}^{\\mathrm{T} }b_{1} &a_{1}^{\\mathrm{T} }b_{2} &\\dots &a_{1}^{\\mathrm{T} }b_{m}\\\\\n",
    " a_{2}^{\\mathrm{T} }b_{1} &a_{2}^{\\mathrm{T} }b_{2} &\\dots &a_{2}^{\\mathrm{T} }b_{m}\\\\\n",
    " \\vdots &\\vdots &\\ddots &\\vdots\\\\\n",
    " a_{n}^{\\mathrm{T} }b_{1} &a_{n}^{\\mathrm{T} }b_{2} &\\dots &a_{n}^{\\mathrm{T} }b_{m}\\\\\n",
    "\\end{bmatrix} \n",
    "$$"
   ]
  },
  {
   "cell_type": "markdown",
   "id": "da22d092-58b0-417a-b61a-f83c47f11bd2",
   "metadata": {},
   "source": [
    "<font size=4>\n",
    "    我们可以将矩阵-矩阵乘法$\\mathrm{A}\\mathrm{B}$看作是简单地执行$m$次矩阵-向量积，并将结果拼接在一起，形成一个矩阵。 在下面的代码中，我们在A和B上执行矩阵乘法。 这里的A是一个5行4列的矩阵，B是一个4行3列的矩阵。 两者相乘后，我们得到了一个5行3列的矩阵。\n",
    "    </font>"
   ]
  },
  {
   "cell_type": "code",
   "execution_count": 118,
   "id": "1716da85-c2c2-49d4-ad78-57d2aeeb794b",
   "metadata": {},
   "outputs": [
    {
     "data": {
      "text/plain": [
       "tensor([[ 0.,  1.,  2.,  3.],\n",
       "        [ 4.,  5.,  6.,  7.],\n",
       "        [ 8.,  9., 10., 11.],\n",
       "        [12., 13., 14., 15.],\n",
       "        [16., 17., 18., 19.]])"
      ]
     },
     "execution_count": 118,
     "metadata": {},
     "output_type": "execute_result"
    },
    {
     "data": {
      "text/plain": [
       "tensor([[1., 1., 1.],\n",
       "        [1., 1., 1.],\n",
       "        [1., 1., 1.],\n",
       "        [1., 1., 1.]])"
      ]
     },
     "execution_count": 118,
     "metadata": {},
     "output_type": "execute_result"
    }
   ],
   "source": [
    "A\n",
    "B = torch.ones(4, 3)\n",
    "B\n",
    "AB = torch.mm(A, B)  # 矩阵-矩阵乘法 mm()"
   ]
  },
  {
   "cell_type": "markdown",
   "id": "f710fc54-b949-4641-abc7-64e51236a639",
   "metadata": {},
   "source": [
    "<font size=4 color=red>\n",
    "    矩阵-矩阵乘法可以简单地称为矩阵乘法，不应与”Hadamard积”混淆。\n",
    "    </font>"
   ]
  },
  {
   "cell_type": "markdown",
   "id": "fd5d45c8-9b88-4194-bb63-fbbf4fbd21eb",
   "metadata": {},
   "source": [
    "## 2.3.10. 向量的范数\n",
    "<font size=4>\n",
    "    线性代数中最有用的一些运算符是范数（norm）。 非正式地说，一个向量的范数告诉我们一个向量有多大。 这里考虑的大小（size）概念不涉及维度，而是分量的大小。<br><br>\n",
    "    在线性代数中，向量范数是将向量映射到标量的函数$f$。 给定任意向量$\\mathrm{x}$，向量范数要满足一些属性。 第一个性质是：<font color=red>如果我们按常数因子$\\alpha $缩放向量的所有元素， 其范数也会按相同常数因子的绝对值缩放：</font><br><br>\n",
    "    $$\n",
    "    f(\\alpha\\mathrm{x})=\\begin{vmatrix}\n",
    "\\alpha \n",
    "\\end{vmatrix} f(\\mathrm{x})\n",
    "    $$<br>\n",
    "    第二个性质是我们熟悉的三角不等式:<br>\n",
    "    $$\n",
    "    f(\\mathrm{x}+\\mathrm{y}) \\le f(\\mathrm{x})+f(\\mathrm{y})\n",
    "    $$<br>\n",
    "    <font color=red>第三个性质简单地说范数必须是非负的:</font>\n",
    "    $$\n",
    "    f(\\mathrm{x})\\ge0\n",
    "    $$<br>\n",
    "    <font color=red>\n",
    "        这是有道理的。因为在大多数情况下，任何东西的最小的大小是0。 最后一个性质要求范数最小为0，当且仅当向量全由0组成。\n",
    "    </font><br>\n",
    "    $$\n",
    "    \\forall i,[\\mathrm{x}]_{i}=0\\Leftrightarrow f(\\mathrm{x})=0\n",
    "    $$<br>\n",
    "    你可能会注意到，范数听起来很像距离的度量。 如果你还记得欧几里得距离和毕达哥拉斯定理，那么非负性的概念和三角不等式可能会给你一些启发。 事实上，欧几里得距离是一个$L_{2}$\n",
    "范数： 假设$n$维向量$\\mathrm{x}$中的元素是$x_{1},\\dots,x_{n}$\n",
    "，其$L_{2}$\n",
    "范数是向量元素平方和的平方根：\n",
    "    $$\n",
    "    \\begin{Vmatrix}\n",
    "\\mathrm{x} \n",
    "\\end{Vmatrix}_{2}=\n",
    "\\sqrt{\\sum_{i=1}^{n}x_{i}^{2} } \n",
    "    $$<br>\n",
    "    其中，在$L_{2}$\n",
    "范数中常常省略下标，也就是说$\\begin{Vmatrix}\n",
    "\\mathrm{x} \n",
    "\\end{Vmatrix}_{2}$等同于$\\begin{Vmatrix}\n",
    "\\mathrm{x} \n",
    "\\end{Vmatrix}$\n",
    "。 在代码中，我们可以按如下方式计算向量的$\\begin{Vmatrix}\n",
    "\\mathrm{x} \n",
    "\\end{Vmatrix}$\n",
    "范数。\n",
    "    </font>"
   ]
  },
  {
   "cell_type": "code",
   "execution_count": 122,
   "id": "6b84fef5-5306-4171-8e31-379d37ca3a21",
   "metadata": {},
   "outputs": [
    {
     "data": {
      "text/plain": [
       "5.0"
      ]
     },
     "execution_count": 122,
     "metadata": {},
     "output_type": "execute_result"
    },
    {
     "data": {
      "text/plain": [
       "tensor(5.)"
      ]
     },
     "execution_count": 122,
     "metadata": {},
     "output_type": "execute_result"
    }
   ],
   "source": [
    "import numpy as np\n",
    "u = np.array([3, -4])\n",
    "np.linalg.norm(u)  # numpy计算向量的二范数\n",
    "\n",
    "# pytorch 计算向量的二范数\n",
    "u = torch.tensor([3, -4], dtype=torch.float32)\n",
    "torch.norm(u)  # pytorch 计算向量的二范数"
   ]
  },
  {
   "cell_type": "markdown",
   "id": "24d2e38b-1293-4fd1-b411-9ed939546e0e",
   "metadata": {},
   "source": [
    "<font size=4>\n",
    "    在深度学习中，我们更经常地使用$L_{2}$\n",
    "范数的平方。 你还会经常遇到$L_{1}$\n",
    "范数，它表示为向量元素的绝对值之和：<br>\n",
    "    $$\n",
    "    \\begin{Vmatrix}\n",
    "\\mathrm{x} \n",
    "\\end{Vmatrix}_{1}=\n",
    "\\sum_{i=1}^{n}\\begin{vmatrix}\n",
    "x_{i}\n",
    "\\end{vmatrix}\n",
    "    $$\n",
    "    与$L_{2}$\n",
    "范数相比，$L_{1}$\n",
    "范数受异常值的影响较小。 为了计算$L_{1}$\n",
    "范数，我们将绝对值函数和按元素求和组合起来。\n",
    "    </font>"
   ]
  },
  {
   "cell_type": "code",
   "execution_count": 125,
   "id": "93436a33-27fc-485d-8540-b6d24cc4cd41",
   "metadata": {},
   "outputs": [
    {
     "data": {
      "text/plain": [
       "tensor([ 3., -4.])"
      ]
     },
     "execution_count": 125,
     "metadata": {},
     "output_type": "execute_result"
    },
    {
     "data": {
      "text/plain": [
       "tensor(7.)"
      ]
     },
     "execution_count": 125,
     "metadata": {},
     "output_type": "execute_result"
    }
   ],
   "source": [
    "u\n",
    "torch.abs(u).sum()  # pytorch计算向量的一范数"
   ]
  },
  {
   "cell_type": "markdown",
   "id": "bf3d0418-fcaf-479a-8c8b-98ee6586ac88",
   "metadata": {},
   "source": [
    "<font size=4>\n",
    "  $L_{1}$  \n",
    "范数和$L_{2}$\n",
    "范数都是更一般的$L_{p}$\n",
    "范数的特例：\n",
    "    $$\n",
    "    \\begin{Vmatrix}\\mathrm{x}\\end{Vmatrix}_{p}=\n",
    "\\sqrt[p]{\\sum_{i=1}^{n}\\begin{vmatrix}x_{i}\\end{vmatrix}^{p}\n",
    "} \n",
    "    $$<br>\n",
    "    类似于向量的$L_{2}$\n",
    "范数，矩阵$\\mathrm{X}\\in \\mathbb{R}^{m\\times n}$\n",
    "的Frobenius范数（Frobenius norm）是矩阵元素平方和的平方根：<br><br>\n",
    "    $$\n",
    "    \\begin{Vmatrix}\\mathrm{x}\\end{Vmatrix}_{F}=\n",
    "\\sqrt{\n",
    "\\sum_{i=1}^{m}\\sum_{j=1}^{n}x_{ij}^{2}\n",
    "} \n",
    "    $$\n",
    "    Frobenius范数满足向量范数的所有性质，它就像是矩阵形向量的\n",
    "范数。 调用以下函数将计算矩阵的Frobenius范数。\n",
    "    </font>"
   ]
  },
  {
   "cell_type": "code",
   "execution_count": 127,
   "id": "ea11e938-4d8b-4bf2-9e14-6a7d7799b002",
   "metadata": {},
   "outputs": [
    {
     "data": {
      "text/plain": [
       "tensor([[1., 1., 1., 1., 1., 1., 1., 1., 1.],\n",
       "        [1., 1., 1., 1., 1., 1., 1., 1., 1.],\n",
       "        [1., 1., 1., 1., 1., 1., 1., 1., 1.],\n",
       "        [1., 1., 1., 1., 1., 1., 1., 1., 1.]])"
      ]
     },
     "execution_count": 127,
     "metadata": {},
     "output_type": "execute_result"
    },
    {
     "data": {
      "text/plain": [
       "tensor(6.)"
      ]
     },
     "execution_count": 127,
     "metadata": {},
     "output_type": "execute_result"
    }
   ],
   "source": [
    "torch.ones(4, 9)  # 4x9全1的矩阵\n",
    "torch.norm(torch.ones(4, 9))  # 计算矩阵的L2范数，也就是每个元素的评分的和在开2次算术平方根"
   ]
  },
  {
   "cell_type": "markdown",
   "id": "ccebd7c4-8956-466c-9958-1a022a2d47b4",
   "metadata": {},
   "source": [
    "##   2.3.10.1. 范数和目标\n",
    "<font size=4>\n",
    "  在深度学习中，我们经常试图解决优化问题： 最大化分配给观测数据的概率; 最小化预测和真实观测之间的距离。 用向量表示物品（如单词、产品或新闻文章），以便最小化相似项目之间的距离，最大化不同项目之间的距离。 目标，或许是深度学习算法最重要的组成部分（除了数据），通常被表达为范数。\n",
    " \n",
    "    </font>\n",
    "## 2.3.11. 关于线性代数的更多信息\n",
    "<font size=4>\n",
    "仅用一节，我们就教会了你所需的、用以理解现代深度学习的线性代数。 线性代数还有很多，其中很多数学对于机器学习非常有用。 例如，矩阵可以分解为因子，这些分解可以显示真实世界数据集中的低维结构。 机器学习的整个子领域都侧重于使用矩阵分解及其向高阶张量的泛化，来发现数据集中的结构并解决预测问题。 我们相信，一旦你开始动手尝试并在真实数据集上应用了有效的机器学习模型，你会更倾向于学习更多数学。 因此，这一节到此结束，我们保留在后面介绍更多数学知识的权利。<br><br>\n",
    "\n",
    "如果你渴望了解有关线性代数的更多信息，你可以参考线性代数运算的在线附录或其他优秀资源 [Strang, 1993][Kolter, 2008][Petersen et al., 2008]。</font>\n",
    "\n",
    "## 2.3.12. 小结\n",
    "<font size=4>\n",
    "标量、向量、矩阵和张量是线性代数中的基本数学对象。  <br><br>\n",
    "    \n",
    "\n",
    "向量泛化自标量，矩阵泛化自向量。\n",
    "\n",
    "标量、向量、矩阵和张量分别具有零、一、二和任意数量的轴。\n",
    "\n",
    "一个张量可以通过sum和mean沿指定的轴降低维度。\n",
    "\n",
    "两个矩阵的按元素乘法被称为他们的Hadamard积。它与矩阵乘法不同。\n",
    "\n",
    "在深度学习中，我们经常使用范数，如\n",
    "范数、\n",
    "范数和Frobenius范数。\n",
    "\n",
    "我们可以对标量、向量、矩阵和张量执行各种操作。\n",
    "    </font>"
   ]
  }
 ],
 "metadata": {
  "kernelspec": {
   "display_name": "study-ml(python3.7)",
   "language": "python",
   "name": "study-ml"
  },
  "language_info": {
   "codemirror_mode": {
    "name": "ipython",
    "version": 3
   },
   "file_extension": ".py",
   "mimetype": "text/x-python",
   "name": "python",
   "nbconvert_exporter": "python",
   "pygments_lexer": "ipython3",
   "version": "3.7.10"
  }
 },
 "nbformat": 4,
 "nbformat_minor": 5
}
